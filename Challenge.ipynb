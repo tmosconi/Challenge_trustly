{
 "cells": [
  {
   "cell_type": "markdown",
   "metadata": {},
   "source": [
    "Desafio da Trustly para realizar uma modelagem nos dados do dataset_test_ds.csv, não é fornecido uma contextualização\n",
    "do problema ou descrição dos dados, cabendo um exercicio de interpretação."
   ]
  },
  {
   "cell_type": "code",
   "execution_count": 1,
   "metadata": {},
   "outputs": [],
   "source": [
    "import pandas as pd\n",
    "import matplotlib.pyplot as plt\n",
    "import numpy as np\n",
    "from sklearn.model_selection import train_test_split\n",
    "from sklearn.preprocessing import StandardScaler\n",
    "from imblearn.under_sampling import RandomUnderSampler\n",
    "from sklearn import linear_model\n",
    "from sklearn.model_selection import GridSearchCV\n",
    "from scipy import stats\n",
    "from sklearn.metrics import plot_confusion_matrix\n",
    "import seaborn as sns\n",
    "\n",
    "import sklearn.metrics as metrics\n",
    "from sklearn.metrics import confusion_matrix\n",
    "from sklearn.metrics import precision_score, recall_score, precision_recall_curve,f1_score, fbeta_score, accuracy_score\n",
    "\n",
    "import tensorflow as tf\n",
    "from tensorflow import keras\n",
    "from tensorflow.keras import layers\n",
    "\n",
    "from sklearn.ensemble import RandomForestClassifier"
   ]
  },
  {
   "cell_type": "code",
   "execution_count": 2,
   "metadata": {},
   "outputs": [],
   "source": [
    "df = pd.read_csv('dataset_test_ds.csv', sep=';')"
   ]
  },
  {
   "cell_type": "code",
   "execution_count": 3,
   "metadata": {},
   "outputs": [
    {
     "data": {
      "text/html": [
       "<div>\n",
       "<style scoped>\n",
       "    .dataframe tbody tr th:only-of-type {\n",
       "        vertical-align: middle;\n",
       "    }\n",
       "\n",
       "    .dataframe tbody tr th {\n",
       "        vertical-align: top;\n",
       "    }\n",
       "\n",
       "    .dataframe thead th {\n",
       "        text-align: right;\n",
       "    }\n",
       "</style>\n",
       "<table border=\"1\" class=\"dataframe\">\n",
       "  <thead>\n",
       "    <tr style=\"text-align: right;\">\n",
       "      <th></th>\n",
       "      <th>V1</th>\n",
       "      <th>V2</th>\n",
       "      <th>V3</th>\n",
       "      <th>TARGET</th>\n",
       "      <th>V4</th>\n",
       "      <th>V5</th>\n",
       "      <th>V6</th>\n",
       "      <th>V7</th>\n",
       "      <th>V8</th>\n",
       "      <th>V9</th>\n",
       "      <th>V10</th>\n",
       "      <th>Safra</th>\n",
       "    </tr>\n",
       "  </thead>\n",
       "  <tbody>\n",
       "    <tr>\n",
       "      <th>0</th>\n",
       "      <td>0</td>\n",
       "      <td>8.1</td>\n",
       "      <td>9.99</td>\n",
       "      <td>0</td>\n",
       "      <td>1968</td>\n",
       "      <td>0</td>\n",
       "      <td>0</td>\n",
       "      <td>15.15</td>\n",
       "      <td>0</td>\n",
       "      <td>0</td>\n",
       "      <td>0</td>\n",
       "      <td>201901</td>\n",
       "    </tr>\n",
       "    <tr>\n",
       "      <th>1</th>\n",
       "      <td>0</td>\n",
       "      <td>4.4</td>\n",
       "      <td>35.00</td>\n",
       "      <td>0</td>\n",
       "      <td>1369</td>\n",
       "      <td>0</td>\n",
       "      <td>0</td>\n",
       "      <td>63.98</td>\n",
       "      <td>1</td>\n",
       "      <td>0</td>\n",
       "      <td>0</td>\n",
       "      <td>201910</td>\n",
       "    </tr>\n",
       "    <tr>\n",
       "      <th>2</th>\n",
       "      <td>0</td>\n",
       "      <td>0.7</td>\n",
       "      <td>52.99</td>\n",
       "      <td>0</td>\n",
       "      <td>1228</td>\n",
       "      <td>0</td>\n",
       "      <td>0</td>\n",
       "      <td>98.84</td>\n",
       "      <td>0</td>\n",
       "      <td>0</td>\n",
       "      <td>0</td>\n",
       "      <td>201906</td>\n",
       "    </tr>\n",
       "    <tr>\n",
       "      <th>3</th>\n",
       "      <td>0</td>\n",
       "      <td>63.3</td>\n",
       "      <td>810.00</td>\n",
       "      <td>0</td>\n",
       "      <td>0</td>\n",
       "      <td>0</td>\n",
       "      <td>1</td>\n",
       "      <td>9237.21</td>\n",
       "      <td>0</td>\n",
       "      <td>0</td>\n",
       "      <td>0</td>\n",
       "      <td>201910</td>\n",
       "    </tr>\n",
       "    <tr>\n",
       "      <th>4</th>\n",
       "      <td>0</td>\n",
       "      <td>4.1</td>\n",
       "      <td>17.50</td>\n",
       "      <td>0</td>\n",
       "      <td>0</td>\n",
       "      <td>0</td>\n",
       "      <td>1</td>\n",
       "      <td>27.70</td>\n",
       "      <td>1</td>\n",
       "      <td>0</td>\n",
       "      <td>0</td>\n",
       "      <td>201902</td>\n",
       "    </tr>\n",
       "    <tr>\n",
       "      <th>...</th>\n",
       "      <td>...</td>\n",
       "      <td>...</td>\n",
       "      <td>...</td>\n",
       "      <td>...</td>\n",
       "      <td>...</td>\n",
       "      <td>...</td>\n",
       "      <td>...</td>\n",
       "      <td>...</td>\n",
       "      <td>...</td>\n",
       "      <td>...</td>\n",
       "      <td>...</td>\n",
       "      <td>...</td>\n",
       "    </tr>\n",
       "    <tr>\n",
       "      <th>11164</th>\n",
       "      <td>0</td>\n",
       "      <td>86.4</td>\n",
       "      <td>5.00</td>\n",
       "      <td>0</td>\n",
       "      <td>1964</td>\n",
       "      <td>0</td>\n",
       "      <td>0</td>\n",
       "      <td>31.57</td>\n",
       "      <td>1</td>\n",
       "      <td>0</td>\n",
       "      <td>0</td>\n",
       "      <td>201909</td>\n",
       "    </tr>\n",
       "    <tr>\n",
       "      <th>11165</th>\n",
       "      <td>0</td>\n",
       "      <td>6.7</td>\n",
       "      <td>55.00</td>\n",
       "      <td>0</td>\n",
       "      <td>0</td>\n",
       "      <td>0</td>\n",
       "      <td>1</td>\n",
       "      <td>114.51</td>\n",
       "      <td>0</td>\n",
       "      <td>0</td>\n",
       "      <td>0</td>\n",
       "      <td>201909</td>\n",
       "    </tr>\n",
       "    <tr>\n",
       "      <th>11166</th>\n",
       "      <td>0</td>\n",
       "      <td>1.2</td>\n",
       "      <td>100.00</td>\n",
       "      <td>0</td>\n",
       "      <td>1120</td>\n",
       "      <td>0</td>\n",
       "      <td>0</td>\n",
       "      <td>213.57</td>\n",
       "      <td>1</td>\n",
       "      <td>0</td>\n",
       "      <td>0</td>\n",
       "      <td>201901</td>\n",
       "    </tr>\n",
       "    <tr>\n",
       "      <th>11167</th>\n",
       "      <td>0</td>\n",
       "      <td>11.0</td>\n",
       "      <td>85.00</td>\n",
       "      <td>0</td>\n",
       "      <td>2005</td>\n",
       "      <td>0</td>\n",
       "      <td>0</td>\n",
       "      <td>208.33</td>\n",
       "      <td>0</td>\n",
       "      <td>0</td>\n",
       "      <td>0</td>\n",
       "      <td>201911</td>\n",
       "    </tr>\n",
       "    <tr>\n",
       "      <th>11168</th>\n",
       "      <td>0</td>\n",
       "      <td>97.9</td>\n",
       "      <td>2230.00</td>\n",
       "      <td>0</td>\n",
       "      <td>1440</td>\n",
       "      <td>0</td>\n",
       "      <td>0</td>\n",
       "      <td>51997.12</td>\n",
       "      <td>0</td>\n",
       "      <td>0</td>\n",
       "      <td>0</td>\n",
       "      <td>201906</td>\n",
       "    </tr>\n",
       "  </tbody>\n",
       "</table>\n",
       "<p>11169 rows × 12 columns</p>\n",
       "</div>"
      ],
      "text/plain": [
       "       V1    V2       V3  TARGET    V4  V5  V6        V7  V8  V9  V10   Safra\n",
       "0       0   8.1     9.99       0  1968   0   0     15.15   0   0    0  201901\n",
       "1       0   4.4    35.00       0  1369   0   0     63.98   1   0    0  201910\n",
       "2       0   0.7    52.99       0  1228   0   0     98.84   0   0    0  201906\n",
       "3       0  63.3   810.00       0     0   0   1   9237.21   0   0    0  201910\n",
       "4       0   4.1    17.50       0     0   0   1     27.70   1   0    0  201902\n",
       "...    ..   ...      ...     ...   ...  ..  ..       ...  ..  ..  ...     ...\n",
       "11164   0  86.4     5.00       0  1964   0   0     31.57   1   0    0  201909\n",
       "11165   0   6.7    55.00       0     0   0   1    114.51   0   0    0  201909\n",
       "11166   0   1.2   100.00       0  1120   0   0    213.57   1   0    0  201901\n",
       "11167   0  11.0    85.00       0  2005   0   0    208.33   0   0    0  201911\n",
       "11168   0  97.9  2230.00       0  1440   0   0  51997.12   0   0    0  201906\n",
       "\n",
       "[11169 rows x 12 columns]"
      ]
     },
     "execution_count": 3,
     "metadata": {},
     "output_type": "execute_result"
    }
   ],
   "source": [
    "df"
   ]
  },
  {
   "cell_type": "code",
   "execution_count": 4,
   "metadata": {},
   "outputs": [
    {
     "name": "stdout",
     "output_type": "stream",
     "text": [
      "<class 'pandas.core.frame.DataFrame'>\n",
      "RangeIndex: 11169 entries, 0 to 11168\n",
      "Data columns (total 12 columns):\n",
      " #   Column  Non-Null Count  Dtype  \n",
      "---  ------  --------------  -----  \n",
      " 0   V1      11169 non-null  int64  \n",
      " 1   V2      11169 non-null  float64\n",
      " 2   V3      11169 non-null  float64\n",
      " 3   TARGET  11169 non-null  int64  \n",
      " 4   V4      11169 non-null  int64  \n",
      " 5   V5      11169 non-null  int64  \n",
      " 6   V6      11169 non-null  int64  \n",
      " 7   V7      11169 non-null  float64\n",
      " 8   V8      11169 non-null  int64  \n",
      " 9   V9      11169 non-null  int64  \n",
      " 10  V10     11169 non-null  int64  \n",
      " 11  Safra   11169 non-null  int64  \n",
      "dtypes: float64(3), int64(9)\n",
      "memory usage: 1.0 MB\n"
     ]
    }
   ],
   "source": [
    "df.info()"
   ]
  },
  {
   "cell_type": "markdown",
   "metadata": {},
   "source": [
    "Analisando o data set, vamos que ele tem 11169 registros e 12variaveis\n",
    "10 variaveis identificadas como V1, V2 ... V10, uma variavel identificada como safra\n",
    "no padrão Ym e a variavel target.\n",
    "Como primeiro passo será identificado os tipo/range/valores de cada variavel\n",
    "As variaveis target e safra serão analisadas separadamente devido a serem as unicas identificadas"
   ]
  },
  {
   "cell_type": "markdown",
   "metadata": {},
   "source": []
  },
  {
   "cell_type": "markdown",
   "metadata": {},
   "source": []
  },
  {
   "cell_type": "markdown",
   "metadata": {},
   "source": [
    "# Variável target"
   ]
  },
  {
   "cell_type": "code",
   "execution_count": 5,
   "metadata": {},
   "outputs": [
    {
     "name": "stdout",
     "output_type": "stream",
     "text": [
      "0    11049\n",
      "1      120\n",
      "Name: TARGET, dtype: int64\n"
     ]
    }
   ],
   "source": [
    "item_counts = df[\"TARGET\"].value_counts()\n",
    "print(item_counts)"
   ]
  },
  {
   "cell_type": "code",
   "execution_count": null,
   "metadata": {},
   "outputs": [],
   "source": []
  },
  {
   "cell_type": "code",
   "execution_count": 6,
   "metadata": {},
   "outputs": [
    {
     "data": {
      "text/plain": [
       "Text(0.5, 0, '0:Non-Event, 1:Event')"
      ]
     },
     "execution_count": 6,
     "metadata": {},
     "output_type": "execute_result"
    },
    {
     "data": {
      "image/png": "[encoded data removed]",
      "text/plain": [
       "<Figure size 720x576 with 1 Axes>"
      ]
     },
     "metadata": {
      "needs_background": "light"
     },
     "output_type": "display_data"
    }
   ],
   "source": [
    "plt.figure(figsize=(10,8))\n",
    "sns.barplot(x=df[\"TARGET\"].value_counts().index,y=df[\"TARGET\"].value_counts(),color='blue')\n",
    "plt.title('Event vs. Non-Event Data')\n",
    "plt.ylabel('Count')\n",
    "plt.xlabel('0:Non-Event, 1:Event')"
   ]
  },
  {
   "cell_type": "markdown",
   "metadata": {},
   "source": [
    "A variável Target, possuiu valores 0 a 1 e a variavel 1 possui 120 registros o que representa 1% do dataset,\n",
    "o que da indicio que o dataset se refere a dataset de eventos raros, como por exemplo fraudes"
   ]
  },
  {
   "cell_type": "markdown",
   "metadata": {},
   "source": [
    "# Variável Safra"
   ]
  },
  {
   "cell_type": "code",
   "execution_count": 7,
   "metadata": {},
   "outputs": [],
   "source": [
    "item_counts = df[\"Safra\"].value_counts()"
   ]
  },
  {
   "cell_type": "code",
   "execution_count": 8,
   "metadata": {},
   "outputs": [],
   "source": [
    "df_s = pd.DataFrame(item_counts)"
   ]
  },
  {
   "cell_type": "code",
   "execution_count": 9,
   "metadata": {},
   "outputs": [],
   "source": [
    "df_s = df_s.sort_index()"
   ]
  },
  {
   "cell_type": "code",
   "execution_count": 10,
   "metadata": {},
   "outputs": [
    {
     "data": {
      "text/html": [
       "<div>\n",
       "<style scoped>\n",
       "    .dataframe tbody tr th:only-of-type {\n",
       "        vertical-align: middle;\n",
       "    }\n",
       "\n",
       "    .dataframe tbody tr th {\n",
       "        vertical-align: top;\n",
       "    }\n",
       "\n",
       "    .dataframe thead th {\n",
       "        text-align: right;\n",
       "    }\n",
       "</style>\n",
       "<table border=\"1\" class=\"dataframe\">\n",
       "  <thead>\n",
       "    <tr style=\"text-align: right;\">\n",
       "      <th></th>\n",
       "      <th>Safra</th>\n",
       "    </tr>\n",
       "  </thead>\n",
       "  <tbody>\n",
       "    <tr>\n",
       "      <th>count</th>\n",
       "      <td>12.00000</td>\n",
       "    </tr>\n",
       "    <tr>\n",
       "      <th>mean</th>\n",
       "      <td>930.75000</td>\n",
       "    </tr>\n",
       "    <tr>\n",
       "      <th>std</th>\n",
       "      <td>38.49941</td>\n",
       "    </tr>\n",
       "    <tr>\n",
       "      <th>min</th>\n",
       "      <td>831.00000</td>\n",
       "    </tr>\n",
       "    <tr>\n",
       "      <th>25%</th>\n",
       "      <td>912.50000</td>\n",
       "    </tr>\n",
       "    <tr>\n",
       "      <th>50%</th>\n",
       "      <td>935.50000</td>\n",
       "    </tr>\n",
       "    <tr>\n",
       "      <th>75%</th>\n",
       "      <td>962.00000</td>\n",
       "    </tr>\n",
       "    <tr>\n",
       "      <th>max</th>\n",
       "      <td>970.00000</td>\n",
       "    </tr>\n",
       "  </tbody>\n",
       "</table>\n",
       "</div>"
      ],
      "text/plain": [
       "           Safra\n",
       "count   12.00000\n",
       "mean   930.75000\n",
       "std     38.49941\n",
       "min    831.00000\n",
       "25%    912.50000\n",
       "50%    935.50000\n",
       "75%    962.00000\n",
       "max    970.00000"
      ]
     },
     "execution_count": 10,
     "metadata": {},
     "output_type": "execute_result"
    }
   ],
   "source": [
    "df_s.describe()"
   ]
  },
  {
   "cell_type": "code",
   "execution_count": 11,
   "metadata": {},
   "outputs": [
    {
     "data": {
      "image/png": "[encoded data removed]",
      "text/plain": [
       "<Figure size 432x288 with 1 Axes>"
      ]
     },
     "metadata": {
      "needs_background": "light"
     },
     "output_type": "display_data"
    }
   ],
   "source": [
    "plt.plot(df_s)\n",
    "plt.ylim(500, 1300)\n",
    "plt.title('Serie')\n",
    "plt.ylabel('Count')\n",
    "plt.xlabel('Time');"
   ]
  },
  {
   "cell_type": "markdown",
   "metadata": {},
   "source": [
    "A variável Safra, possuiu valores 2019, separados mes a mes, os dados estão bem distribuidos ao longo do tempo, notando somente uma ligeira queda em 201902"
   ]
  },
  {
   "cell_type": "markdown",
   "metadata": {},
   "source": [
    "# Demais Variaves"
   ]
  },
  {
   "cell_type": "code",
   "execution_count": 12,
   "metadata": {},
   "outputs": [],
   "source": [
    "df_v = df.drop(columns=['Safra', 'TARGET'])"
   ]
  },
  {
   "cell_type": "code",
   "execution_count": 13,
   "metadata": {},
   "outputs": [
    {
     "name": "stdout",
     "output_type": "stream",
     "text": [
      "------------------------------\n",
      "DATASET'S DESCRIPTIVE STATISTICS: \n",
      "\n",
      "                 V1            V2            V3            V4            V5  \\\n",
      "count  11169.000000  11169.000000  11169.000000  11169.000000  11169.000000   \n",
      "mean       0.106366     19.726368    531.046901   1396.048438      0.189990   \n",
      "std        0.308319     25.438201    906.626021   1736.590512      0.656058   \n",
      "min        0.000000      0.000000      0.000000      0.000000      0.000000   \n",
      "25%        0.000000      2.800000     37.520000     30.000000      0.000000   \n",
      "50%        0.000000     10.000000    135.000000   1321.000000      0.000000   \n",
      "75%        0.000000     25.200000    520.000000   1988.000000      0.000000   \n",
      "max        1.000000    100.000000   8540.000000  15616.000000     11.000000   \n",
      "\n",
      "                 V6             V7            V8            V9           V10  \n",
      "count  11169.000000   11169.000000  11169.000000  11169.000000  11169.000000  \n",
      "mean       0.177903    4346.085975      0.397529      0.008506      0.030531  \n",
      "std        0.382448   11542.516550      0.489409      0.091837      0.172051  \n",
      "min        0.000000       0.000000      0.000000      0.000000      0.000000  \n",
      "25%        0.000000      77.420000      0.000000      0.000000      0.000000  \n",
      "50%        0.000000     414.070000      0.000000      0.000000      0.000000  \n",
      "75%        0.000000    2799.060000      1.000000      0.000000      0.000000  \n",
      "max        1.000000  143268.550000      1.000000      1.000000      1.000000  \n",
      "\n",
      "\n"
     ]
    }
   ],
   "source": [
    "print('-'*30)\n",
    "print(\"DATASET'S DESCRIPTIVE STATISTICS: \\n\\n{}\\n\\n\".format(df_v.describe(include='all')))"
   ]
  },
  {
   "cell_type": "markdown",
   "metadata": {},
   "source": [
    "Não existe presença de valores nulos\n",
    "\n",
    "Tipos das variaveis  \n",
    "V1 - boolean 0, 1  \n",
    "V2 - numerica (percentual?, valores entre 0-100)  \n",
    "V3 - numerica  \n",
    "v4 - inteira  \n",
    "v5 - inteira  \n",
    "V6 - boolean 0, 1   \n",
    "v7 - numerica   \n",
    "V8 - boolean 0, 1   \n",
    "V9 - boolean 0, 1   \n",
    "V10 - boolean 0, 1   \n",
    "\n",
    "\n",
    "A variação das variaveis numericas entre o 3 quartil e o 4 quartil é significativa o que pode indicar a presença de outlier"
   ]
  },
  {
   "cell_type": "code",
   "execution_count": 14,
   "metadata": {},
   "outputs": [
    {
     "data": {
      "text/plain": [
       "Text(0.5, 1.0, 'Boxplot V2')"
      ]
     },
     "execution_count": 14,
     "metadata": {},
     "output_type": "execute_result"
    },
    {
     "data": {
      "image/png": "[encoded data removed]",
      "text/plain": [
       "<Figure size 432x288 with 1 Axes>"
      ]
     },
     "metadata": {
      "needs_background": "light"
     },
     "output_type": "display_data"
    }
   ],
   "source": [
    "plt.boxplot(x=df_v['V2'])\n",
    "plt.title('Boxplot V2')\n"
   ]
  },
  {
   "cell_type": "code",
   "execution_count": null,
   "metadata": {},
   "outputs": [],
   "source": []
  },
  {
   "cell_type": "code",
   "execution_count": 15,
   "metadata": {},
   "outputs": [
    {
     "data": {
      "text/plain": [
       "Text(0.5, 1.0, 'Boxplot V3')"
      ]
     },
     "execution_count": 15,
     "metadata": {},
     "output_type": "execute_result"
    },
    {
     "data": {
      "image/png": "[encoded data removed]",
      "text/plain": [
       "<Figure size 432x288 with 1 Axes>"
      ]
     },
     "metadata": {
      "needs_background": "light"
     },
     "output_type": "display_data"
    }
   ],
   "source": [
    "plt.boxplot(x=df_v['V3'])\n",
    "plt.title('Boxplot V3')"
   ]
  },
  {
   "cell_type": "code",
   "execution_count": 16,
   "metadata": {},
   "outputs": [
    {
     "data": {
      "text/plain": [
       "Text(0.5, 1.0, 'Boxplot V4')"
      ]
     },
     "execution_count": 16,
     "metadata": {},
     "output_type": "execute_result"
    },
    {
     "data": {
      "image/png": "[encoded data removed]",
      "text/plain": [
       "<Figure size 432x288 with 1 Axes>"
      ]
     },
     "metadata": {
      "needs_background": "light"
     },
     "output_type": "display_data"
    }
   ],
   "source": [
    "plt.boxplot(x=df_v['V4'])\n",
    "plt.title('Boxplot V4')"
   ]
  },
  {
   "cell_type": "code",
   "execution_count": 17,
   "metadata": {},
   "outputs": [
    {
     "data": {
      "text/plain": [
       "Text(0.5, 1.0, 'Boxplot V5')"
      ]
     },
     "execution_count": 17,
     "metadata": {},
     "output_type": "execute_result"
    },
    {
     "data": {
      "image/png": "[encoded data removed]",
      "text/plain": [
       "<Figure size 432x288 with 1 Axes>"
      ]
     },
     "metadata": {
      "needs_background": "light"
     },
     "output_type": "display_data"
    }
   ],
   "source": [
    "plt.boxplot(x=df_v['V5'])\n",
    "plt.title('Boxplot V5')"
   ]
  },
  {
   "cell_type": "code",
   "execution_count": 18,
   "metadata": {},
   "outputs": [
    {
     "data": {
      "text/plain": [
       "Text(0.5, 1.0, 'Boxplot V7')"
      ]
     },
     "execution_count": 18,
     "metadata": {},
     "output_type": "execute_result"
    },
    {
     "data": {
      "image/png": "[encoded data removed]",
      "text/plain": [
       "<Figure size 432x288 with 1 Axes>"
      ]
     },
     "metadata": {
      "needs_background": "light"
     },
     "output_type": "display_data"
    }
   ],
   "source": [
    "plt.boxplot(x=df_v['V7'])\n",
    "plt.title('Boxplot V7')"
   ]
  },
  {
   "cell_type": "code",
   "execution_count": null,
   "metadata": {},
   "outputs": [],
   "source": []
  },
  {
   "cell_type": "markdown",
   "metadata": {},
   "source": [
    "# Z Score"
   ]
  },
  {
   "cell_type": "code",
   "execution_count": 19,
   "metadata": {},
   "outputs": [],
   "source": [
    "df_o = df[[\"V2\",\"V3\",\"V4\",\"V5\",\"V7\"]]"
   ]
  },
  {
   "cell_type": "code",
   "execution_count": 20,
   "metadata": {},
   "outputs": [],
   "source": [
    "z = np.abs(stats.zscore(df_o))"
   ]
  },
  {
   "cell_type": "code",
   "execution_count": 21,
   "metadata": {},
   "outputs": [],
   "source": [
    "df_z = pd.DataFrame(np.where(z > 3))"
   ]
  },
  {
   "cell_type": "code",
   "execution_count": 22,
   "metadata": {},
   "outputs": [],
   "source": [
    "df_z_t = df_z.transpose()"
   ]
  },
  {
   "cell_type": "markdown",
   "metadata": {},
   "source": [
    "Apos aplicação do Z Score, com o objetivo foi identificado a seguinte quantidade de outliers"
   ]
  },
  {
   "cell_type": "code",
   "execution_count": 23,
   "metadata": {},
   "outputs": [
    {
     "name": "stdout",
     "output_type": "stream",
     "text": [
      "Amount of outlier in V2: 312\n",
      "Amount of outlier in V3: 196\n",
      "Amount of outlier in V4: 233\n",
      "Amount of outlier in V5: 173\n",
      "Amount of outlier in V7: 256\n"
     ]
    }
   ],
   "source": [
    "a = df_z_t.loc[(df_z_t[1] == 0)].count()\n",
    "print('Amount of outlier in V2:',a[0])\n",
    "a = df_z_t.loc[(df_z_t[1] == 1)].count()\n",
    "print('Amount of outlier in V3:',a[0])\n",
    "a = df_z_t.loc[(df_z_t[1] == 2)].count()\n",
    "print('Amount of outlier in V4:',a[0])\n",
    "a = df_z_t.loc[(df_z_t[1] == 3)].count()\n",
    "print('Amount of outlier in V5:',a[0])\n",
    "a = df_z_t.loc[(df_z_t[1] == 4)].count()\n",
    "print('Amount of outlier in V7:',a[0])"
   ]
  },
  {
   "cell_type": "markdown",
   "metadata": {},
   "source": [
    "Tanto visualmente qunato pelo teste do Zscore foi identificado outliers, porém devido ao fato do dataset se basear em\n",
    "detecção de evento raros os outliers podem ser uma pista para sua detecção \n",
    "Os outliers serão mantidos no dataset original até maior analise de como usa presença afeta os modelos."
   ]
  },
  {
   "cell_type": "markdown",
   "metadata": {},
   "source": [
    "# Correlação entre variaveis"
   ]
  },
  {
   "cell_type": "code",
   "execution_count": 24,
   "metadata": {},
   "outputs": [
    {
     "data": {
      "text/html": [
       "<style  type=\"text/css\" >\n",
       "    #T_1b92f44a_3e83_11eb_8a61_eee646394e7crow0_col0 {\n",
       "            background-color:  #023858;\n",
       "            color:  #f1f1f1;\n",
       "        }    #T_1b92f44a_3e83_11eb_8a61_eee646394e7crow0_col1 {\n",
       "            background-color:  #fff7fb;\n",
       "            color:  #000000;\n",
       "        }    #T_1b92f44a_3e83_11eb_8a61_eee646394e7crow0_col2 {\n",
       "            background-color:  #c1cae2;\n",
       "            color:  #000000;\n",
       "        }    #T_1b92f44a_3e83_11eb_8a61_eee646394e7crow0_col3 {\n",
       "            background-color:  #c6cce3;\n",
       "            color:  #000000;\n",
       "        }    #T_1b92f44a_3e83_11eb_8a61_eee646394e7crow0_col4 {\n",
       "            background-color:  #d6d6e9;\n",
       "            color:  #000000;\n",
       "        }    #T_1b92f44a_3e83_11eb_8a61_eee646394e7crow0_col5 {\n",
       "            background-color:  #bcc7e1;\n",
       "            color:  #000000;\n",
       "        }    #T_1b92f44a_3e83_11eb_8a61_eee646394e7crow0_col6 {\n",
       "            background-color:  #ebe6f2;\n",
       "            color:  #000000;\n",
       "        }    #T_1b92f44a_3e83_11eb_8a61_eee646394e7crow0_col7 {\n",
       "            background-color:  #f1ebf5;\n",
       "            color:  #000000;\n",
       "        }    #T_1b92f44a_3e83_11eb_8a61_eee646394e7crow0_col8 {\n",
       "            background-color:  #f5eff6;\n",
       "            color:  #000000;\n",
       "        }    #T_1b92f44a_3e83_11eb_8a61_eee646394e7crow0_col9 {\n",
       "            background-color:  #f8f1f8;\n",
       "            color:  #000000;\n",
       "        }    #T_1b92f44a_3e83_11eb_8a61_eee646394e7crow1_col0 {\n",
       "            background-color:  #fef6fa;\n",
       "            color:  #000000;\n",
       "        }    #T_1b92f44a_3e83_11eb_8a61_eee646394e7crow1_col1 {\n",
       "            background-color:  #023858;\n",
       "            color:  #f1f1f1;\n",
       "        }    #T_1b92f44a_3e83_11eb_8a61_eee646394e7crow1_col2 {\n",
       "            background-color:  #8eb3d5;\n",
       "            color:  #000000;\n",
       "        }    #T_1b92f44a_3e83_11eb_8a61_eee646394e7crow1_col3 {\n",
       "            background-color:  #bfc9e1;\n",
       "            color:  #000000;\n",
       "        }    #T_1b92f44a_3e83_11eb_8a61_eee646394e7crow1_col4 {\n",
       "            background-color:  #e1dfed;\n",
       "            color:  #000000;\n",
       "        }    #T_1b92f44a_3e83_11eb_8a61_eee646394e7crow1_col5 {\n",
       "            background-color:  #c5cce3;\n",
       "            color:  #000000;\n",
       "        }    #T_1b92f44a_3e83_11eb_8a61_eee646394e7crow1_col6 {\n",
       "            background-color:  #529bc7;\n",
       "            color:  #000000;\n",
       "        }    #T_1b92f44a_3e83_11eb_8a61_eee646394e7crow1_col7 {\n",
       "            background-color:  #eee9f3;\n",
       "            color:  #000000;\n",
       "        }    #T_1b92f44a_3e83_11eb_8a61_eee646394e7crow1_col8 {\n",
       "            background-color:  #f8f1f8;\n",
       "            color:  #000000;\n",
       "        }    #T_1b92f44a_3e83_11eb_8a61_eee646394e7crow1_col9 {\n",
       "            background-color:  #f2ecf5;\n",
       "            color:  #000000;\n",
       "        }    #T_1b92f44a_3e83_11eb_8a61_eee646394e7crow2_col0 {\n",
       "            background-color:  #d6d6e9;\n",
       "            color:  #000000;\n",
       "        }    #T_1b92f44a_3e83_11eb_8a61_eee646394e7crow2_col1 {\n",
       "            background-color:  #a7bddb;\n",
       "            color:  #000000;\n",
       "        }    #T_1b92f44a_3e83_11eb_8a61_eee646394e7crow2_col2 {\n",
       "            background-color:  #023858;\n",
       "            color:  #f1f1f1;\n",
       "        }    #T_1b92f44a_3e83_11eb_8a61_eee646394e7crow2_col3 {\n",
       "            background-color:  #adc1dd;\n",
       "            color:  #000000;\n",
       "        }    #T_1b92f44a_3e83_11eb_8a61_eee646394e7crow2_col4 {\n",
       "            background-color:  #d7d6e9;\n",
       "            color:  #000000;\n",
       "        }    #T_1b92f44a_3e83_11eb_8a61_eee646394e7crow2_col5 {\n",
       "            background-color:  #d1d2e6;\n",
       "            color:  #000000;\n",
       "        }    #T_1b92f44a_3e83_11eb_8a61_eee646394e7crow2_col6 {\n",
       "            background-color:  #046198;\n",
       "            color:  #f1f1f1;\n",
       "        }    #T_1b92f44a_3e83_11eb_8a61_eee646394e7crow2_col7 {\n",
       "            background-color:  #fff7fb;\n",
       "            color:  #000000;\n",
       "        }    #T_1b92f44a_3e83_11eb_8a61_eee646394e7crow2_col8 {\n",
       "            background-color:  #f6eff7;\n",
       "            color:  #000000;\n",
       "        }    #T_1b92f44a_3e83_11eb_8a61_eee646394e7crow2_col9 {\n",
       "            background-color:  #f0eaf4;\n",
       "            color:  #000000;\n",
       "        }    #T_1b92f44a_3e83_11eb_8a61_eee646394e7crow3_col0 {\n",
       "            background-color:  #eae6f1;\n",
       "            color:  #000000;\n",
       "        }    #T_1b92f44a_3e83_11eb_8a61_eee646394e7crow3_col1 {\n",
       "            background-color:  #e6e2ef;\n",
       "            color:  #000000;\n",
       "        }    #T_1b92f44a_3e83_11eb_8a61_eee646394e7crow3_col2 {\n",
       "            background-color:  #c2cbe2;\n",
       "            color:  #000000;\n",
       "        }    #T_1b92f44a_3e83_11eb_8a61_eee646394e7crow3_col3 {\n",
       "            background-color:  #023858;\n",
       "            color:  #f1f1f1;\n",
       "        }    #T_1b92f44a_3e83_11eb_8a61_eee646394e7crow3_col4 {\n",
       "            background-color:  #e2dfee;\n",
       "            color:  #000000;\n",
       "        }    #T_1b92f44a_3e83_11eb_8a61_eee646394e7crow3_col5 {\n",
       "            background-color:  #fff7fb;\n",
       "            color:  #000000;\n",
       "        }    #T_1b92f44a_3e83_11eb_8a61_eee646394e7crow3_col6 {\n",
       "            background-color:  #d9d8ea;\n",
       "            color:  #000000;\n",
       "        }    #T_1b92f44a_3e83_11eb_8a61_eee646394e7crow3_col7 {\n",
       "            background-color:  #e3e0ee;\n",
       "            color:  #000000;\n",
       "        }    #T_1b92f44a_3e83_11eb_8a61_eee646394e7crow3_col8 {\n",
       "            background-color:  #f7f0f7;\n",
       "            color:  #000000;\n",
       "        }    #T_1b92f44a_3e83_11eb_8a61_eee646394e7crow3_col9 {\n",
       "            background-color:  #eee8f3;\n",
       "            color:  #000000;\n",
       "        }    #T_1b92f44a_3e83_11eb_8a61_eee646394e7crow4_col0 {\n",
       "            background-color:  #dedcec;\n",
       "            color:  #000000;\n",
       "        }    #T_1b92f44a_3e83_11eb_8a61_eee646394e7crow4_col1 {\n",
       "            background-color:  #ece7f2;\n",
       "            color:  #000000;\n",
       "        }    #T_1b92f44a_3e83_11eb_8a61_eee646394e7crow4_col2 {\n",
       "            background-color:  #cdd0e5;\n",
       "            color:  #000000;\n",
       "        }    #T_1b92f44a_3e83_11eb_8a61_eee646394e7crow4_col3 {\n",
       "            background-color:  #c6cce3;\n",
       "            color:  #000000;\n",
       "        }    #T_1b92f44a_3e83_11eb_8a61_eee646394e7crow4_col4 {\n",
       "            background-color:  #023858;\n",
       "            color:  #f1f1f1;\n",
       "        }    #T_1b92f44a_3e83_11eb_8a61_eee646394e7crow4_col5 {\n",
       "            background-color:  #bfc9e1;\n",
       "            color:  #000000;\n",
       "        }    #T_1b92f44a_3e83_11eb_8a61_eee646394e7crow4_col6 {\n",
       "            background-color:  #e1dfed;\n",
       "            color:  #000000;\n",
       "        }    #T_1b92f44a_3e83_11eb_8a61_eee646394e7crow4_col7 {\n",
       "            background-color:  #f7f0f7;\n",
       "            color:  #000000;\n",
       "        }    #T_1b92f44a_3e83_11eb_8a61_eee646394e7crow4_col8 {\n",
       "            background-color:  #f4eef6;\n",
       "            color:  #000000;\n",
       "        }    #T_1b92f44a_3e83_11eb_8a61_eee646394e7crow4_col9 {\n",
       "            background-color:  #efe9f3;\n",
       "            color:  #000000;\n",
       "        }    #T_1b92f44a_3e83_11eb_8a61_eee646394e7crow5_col0 {\n",
       "            background-color:  #e2dfee;\n",
       "            color:  #000000;\n",
       "        }    #T_1b92f44a_3e83_11eb_8a61_eee646394e7crow5_col1 {\n",
       "            background-color:  #ebe6f2;\n",
       "            color:  #000000;\n",
       "        }    #T_1b92f44a_3e83_11eb_8a61_eee646394e7crow5_col2 {\n",
       "            background-color:  #e0deed;\n",
       "            color:  #000000;\n",
       "        }    #T_1b92f44a_3e83_11eb_8a61_eee646394e7crow5_col3 {\n",
       "            background-color:  #fff7fb;\n",
       "            color:  #000000;\n",
       "        }    #T_1b92f44a_3e83_11eb_8a61_eee646394e7crow5_col4 {\n",
       "            background-color:  #dcdaeb;\n",
       "            color:  #000000;\n",
       "        }    #T_1b92f44a_3e83_11eb_8a61_eee646394e7crow5_col5 {\n",
       "            background-color:  #023858;\n",
       "            color:  #f1f1f1;\n",
       "        }    #T_1b92f44a_3e83_11eb_8a61_eee646394e7crow5_col6 {\n",
       "            background-color:  #eae6f1;\n",
       "            color:  #000000;\n",
       "        }    #T_1b92f44a_3e83_11eb_8a61_eee646394e7crow5_col7 {\n",
       "            background-color:  #d7d6e9;\n",
       "            color:  #000000;\n",
       "        }    #T_1b92f44a_3e83_11eb_8a61_eee646394e7crow5_col8 {\n",
       "            background-color:  #faf2f8;\n",
       "            color:  #000000;\n",
       "        }    #T_1b92f44a_3e83_11eb_8a61_eee646394e7crow5_col9 {\n",
       "            background-color:  #fbf4f9;\n",
       "            color:  #000000;\n",
       "        }    #T_1b92f44a_3e83_11eb_8a61_eee646394e7crow6_col0 {\n",
       "            background-color:  #f0eaf4;\n",
       "            color:  #000000;\n",
       "        }    #T_1b92f44a_3e83_11eb_8a61_eee646394e7crow6_col1 {\n",
       "            background-color:  #5a9ec9;\n",
       "            color:  #000000;\n",
       "        }    #T_1b92f44a_3e83_11eb_8a61_eee646394e7crow6_col2 {\n",
       "            background-color:  #045f95;\n",
       "            color:  #f1f1f1;\n",
       "        }    #T_1b92f44a_3e83_11eb_8a61_eee646394e7crow6_col3 {\n",
       "            background-color:  #b7c5df;\n",
       "            color:  #000000;\n",
       "        }    #T_1b92f44a_3e83_11eb_8a61_eee646394e7crow6_col4 {\n",
       "            background-color:  #e0dded;\n",
       "            color:  #000000;\n",
       "        }    #T_1b92f44a_3e83_11eb_8a61_eee646394e7crow6_col5 {\n",
       "            background-color:  #cdd0e5;\n",
       "            color:  #000000;\n",
       "        }    #T_1b92f44a_3e83_11eb_8a61_eee646394e7crow6_col6 {\n",
       "            background-color:  #023858;\n",
       "            color:  #f1f1f1;\n",
       "        }    #T_1b92f44a_3e83_11eb_8a61_eee646394e7crow6_col7 {\n",
       "            background-color:  #f5eff6;\n",
       "            color:  #000000;\n",
       "        }    #T_1b92f44a_3e83_11eb_8a61_eee646394e7crow6_col8 {\n",
       "            background-color:  #f6eff7;\n",
       "            color:  #000000;\n",
       "        }    #T_1b92f44a_3e83_11eb_8a61_eee646394e7crow6_col9 {\n",
       "            background-color:  #eee8f3;\n",
       "            color:  #000000;\n",
       "        }    #T_1b92f44a_3e83_11eb_8a61_eee646394e7crow7_col0 {\n",
       "            background-color:  #fff7fb;\n",
       "            color:  #000000;\n",
       "        }    #T_1b92f44a_3e83_11eb_8a61_eee646394e7crow7_col1 {\n",
       "            background-color:  #fdf5fa;\n",
       "            color:  #000000;\n",
       "        }    #T_1b92f44a_3e83_11eb_8a61_eee646394e7crow7_col2 {\n",
       "            background-color:  #fff7fb;\n",
       "            color:  #000000;\n",
       "        }    #T_1b92f44a_3e83_11eb_8a61_eee646394e7crow7_col3 {\n",
       "            background-color:  #d3d4e7;\n",
       "            color:  #000000;\n",
       "        }    #T_1b92f44a_3e83_11eb_8a61_eee646394e7crow7_col4 {\n",
       "            background-color:  #fff7fb;\n",
       "            color:  #000000;\n",
       "        }    #T_1b92f44a_3e83_11eb_8a61_eee646394e7crow7_col5 {\n",
       "            background-color:  #c4cbe3;\n",
       "            color:  #000000;\n",
       "        }    #T_1b92f44a_3e83_11eb_8a61_eee646394e7crow7_col6 {\n",
       "            background-color:  #fff7fb;\n",
       "            color:  #000000;\n",
       "        }    #T_1b92f44a_3e83_11eb_8a61_eee646394e7crow7_col7 {\n",
       "            background-color:  #023858;\n",
       "            color:  #f1f1f1;\n",
       "        }    #T_1b92f44a_3e83_11eb_8a61_eee646394e7crow7_col8 {\n",
       "            background-color:  #fff7fb;\n",
       "            color:  #000000;\n",
       "        }    #T_1b92f44a_3e83_11eb_8a61_eee646394e7crow7_col9 {\n",
       "            background-color:  #fff7fb;\n",
       "            color:  #000000;\n",
       "        }    #T_1b92f44a_3e83_11eb_8a61_eee646394e7crow8_col0 {\n",
       "            background-color:  #e7e3f0;\n",
       "            color:  #000000;\n",
       "        }    #T_1b92f44a_3e83_11eb_8a61_eee646394e7crow8_col1 {\n",
       "            background-color:  #ece7f2;\n",
       "            color:  #000000;\n",
       "        }    #T_1b92f44a_3e83_11eb_8a61_eee646394e7crow8_col2 {\n",
       "            background-color:  #d6d6e9;\n",
       "            color:  #000000;\n",
       "        }    #T_1b92f44a_3e83_11eb_8a61_eee646394e7crow8_col3 {\n",
       "            background-color:  #c4cbe3;\n",
       "            color:  #000000;\n",
       "        }    #T_1b92f44a_3e83_11eb_8a61_eee646394e7crow8_col4 {\n",
       "            background-color:  #dedcec;\n",
       "            color:  #000000;\n",
       "        }    #T_1b92f44a_3e83_11eb_8a61_eee646394e7crow8_col5 {\n",
       "            background-color:  #c9cee4;\n",
       "            color:  #000000;\n",
       "        }    #T_1b92f44a_3e83_11eb_8a61_eee646394e7crow8_col6 {\n",
       "            background-color:  #e2dfee;\n",
       "            color:  #000000;\n",
       "        }    #T_1b92f44a_3e83_11eb_8a61_eee646394e7crow8_col7 {\n",
       "            background-color:  #e1dfed;\n",
       "            color:  #000000;\n",
       "        }    #T_1b92f44a_3e83_11eb_8a61_eee646394e7crow8_col8 {\n",
       "            background-color:  #023858;\n",
       "            color:  #f1f1f1;\n",
       "        }    #T_1b92f44a_3e83_11eb_8a61_eee646394e7crow8_col9 {\n",
       "            background-color:  #f7f0f7;\n",
       "            color:  #000000;\n",
       "        }    #T_1b92f44a_3e83_11eb_8a61_eee646394e7crow9_col0 {\n",
       "            background-color:  #ebe6f2;\n",
       "            color:  #000000;\n",
       "        }    #T_1b92f44a_3e83_11eb_8a61_eee646394e7crow9_col1 {\n",
       "            background-color:  #e4e1ef;\n",
       "            color:  #000000;\n",
       "        }    #T_1b92f44a_3e83_11eb_8a61_eee646394e7crow9_col2 {\n",
       "            background-color:  #cdd0e5;\n",
       "            color:  #000000;\n",
       "        }    #T_1b92f44a_3e83_11eb_8a61_eee646394e7crow9_col3 {\n",
       "            background-color:  #b5c4df;\n",
       "            color:  #000000;\n",
       "        }    #T_1b92f44a_3e83_11eb_8a61_eee646394e7crow9_col4 {\n",
       "            background-color:  #d6d6e9;\n",
       "            color:  #000000;\n",
       "        }    #T_1b92f44a_3e83_11eb_8a61_eee646394e7crow9_col5 {\n",
       "            background-color:  #cccfe5;\n",
       "            color:  #000000;\n",
       "        }    #T_1b92f44a_3e83_11eb_8a61_eee646394e7crow9_col6 {\n",
       "            background-color:  #d7d6e9;\n",
       "            color:  #000000;\n",
       "        }    #T_1b92f44a_3e83_11eb_8a61_eee646394e7crow9_col7 {\n",
       "            background-color:  #e1dfed;\n",
       "            color:  #000000;\n",
       "        }    #T_1b92f44a_3e83_11eb_8a61_eee646394e7crow9_col8 {\n",
       "            background-color:  #f7f0f7;\n",
       "            color:  #000000;\n",
       "        }    #T_1b92f44a_3e83_11eb_8a61_eee646394e7crow9_col9 {\n",
       "            background-color:  #023858;\n",
       "            color:  #f1f1f1;\n",
       "        }</style><table id=\"T_1b92f44a_3e83_11eb_8a61_eee646394e7c\" ><thead>    <tr>        <th class=\"blank level0\" ></th>        <th class=\"col_heading level0 col0\" >V1</th>        <th class=\"col_heading level0 col1\" >V2</th>        <th class=\"col_heading level0 col2\" >V3</th>        <th class=\"col_heading level0 col3\" >V4</th>        <th class=\"col_heading level0 col4\" >V5</th>        <th class=\"col_heading level0 col5\" >V6</th>        <th class=\"col_heading level0 col6\" >V7</th>        <th class=\"col_heading level0 col7\" >V8</th>        <th class=\"col_heading level0 col8\" >V9</th>        <th class=\"col_heading level0 col9\" >V10</th>    </tr></thead><tbody>\n",
       "                <tr>\n",
       "                        <th id=\"T_1b92f44a_3e83_11eb_8a61_eee646394e7clevel0_row0\" class=\"row_heading level0 row0\" >V1</th>\n",
       "                        <td id=\"T_1b92f44a_3e83_11eb_8a61_eee646394e7crow0_col0\" class=\"data row0 col0\" >1.0</td>\n",
       "                        <td id=\"T_1b92f44a_3e83_11eb_8a61_eee646394e7crow0_col1\" class=\"data row0 col1\" >-0.13</td>\n",
       "                        <td id=\"T_1b92f44a_3e83_11eb_8a61_eee646394e7crow0_col2\" class=\"data row0 col2\" >0.11</td>\n",
       "                        <td id=\"T_1b92f44a_3e83_11eb_8a61_eee646394e7crow0_col3\" class=\"data row0 col3\" >0.012</td>\n",
       "                        <td id=\"T_1b92f44a_3e83_11eb_8a61_eee646394e7crow0_col4\" class=\"data row0 col4\" >0.073</td>\n",
       "                        <td id=\"T_1b92f44a_3e83_11eb_8a61_eee646394e7crow0_col5\" class=\"data row0 col5\" >0.052</td>\n",
       "                        <td id=\"T_1b92f44a_3e83_11eb_8a61_eee646394e7crow0_col6\" class=\"data row0 col6\" >-0.023</td>\n",
       "                        <td id=\"T_1b92f44a_3e83_11eb_8a61_eee646394e7crow0_col7\" class=\"data row0 col7\" >-0.14</td>\n",
       "                        <td id=\"T_1b92f44a_3e83_11eb_8a61_eee646394e7crow0_col8\" class=\"data row0 col8\" >0.028</td>\n",
       "                        <td id=\"T_1b92f44a_3e83_11eb_8a61_eee646394e7crow0_col9\" class=\"data row0 col9\" >0.0063</td>\n",
       "            </tr>\n",
       "            <tr>\n",
       "                        <th id=\"T_1b92f44a_3e83_11eb_8a61_eee646394e7clevel0_row1\" class=\"row_heading level0 row1\" >V2</th>\n",
       "                        <td id=\"T_1b92f44a_3e83_11eb_8a61_eee646394e7crow1_col0\" class=\"data row1 col0\" >-0.13</td>\n",
       "                        <td id=\"T_1b92f44a_3e83_11eb_8a61_eee646394e7crow1_col1\" class=\"data row1 col1\" >1.0</td>\n",
       "                        <td id=\"T_1b92f44a_3e83_11eb_8a61_eee646394e7crow1_col2\" class=\"data row1 col2\" >0.29</td>\n",
       "                        <td id=\"T_1b92f44a_3e83_11eb_8a61_eee646394e7crow1_col3\" class=\"data row1 col3\" >0.043</td>\n",
       "                        <td id=\"T_1b92f44a_3e83_11eb_8a61_eee646394e7crow1_col4\" class=\"data row1 col4\" >0.013</td>\n",
       "                        <td id=\"T_1b92f44a_3e83_11eb_8a61_eee646394e7crow1_col5\" class=\"data row1 col5\" >0.015</td>\n",
       "                        <td id=\"T_1b92f44a_3e83_11eb_8a61_eee646394e7crow1_col6\" class=\"data row1 col6\" >0.49</td>\n",
       "                        <td id=\"T_1b92f44a_3e83_11eb_8a61_eee646394e7crow1_col7\" class=\"data row1 col7\" >-0.12</td>\n",
       "                        <td id=\"T_1b92f44a_3e83_11eb_8a61_eee646394e7crow1_col8\" class=\"data row1 col8\" >0.011</td>\n",
       "                        <td id=\"T_1b92f44a_3e83_11eb_8a61_eee646394e7crow1_col9\" class=\"data row1 col9\" >0.051</td>\n",
       "            </tr>\n",
       "            <tr>\n",
       "                        <th id=\"T_1b92f44a_3e83_11eb_8a61_eee646394e7clevel0_row2\" class=\"row_heading level0 row2\" >V3</th>\n",
       "                        <td id=\"T_1b92f44a_3e83_11eb_8a61_eee646394e7crow2_col0\" class=\"data row2 col0\" >0.11</td>\n",
       "                        <td id=\"T_1b92f44a_3e83_11eb_8a61_eee646394e7crow2_col1\" class=\"data row2 col1\" >0.29</td>\n",
       "                        <td id=\"T_1b92f44a_3e83_11eb_8a61_eee646394e7crow2_col2\" class=\"data row2 col2\" >1.0</td>\n",
       "                        <td id=\"T_1b92f44a_3e83_11eb_8a61_eee646394e7crow2_col3\" class=\"data row2 col3\" >0.11</td>\n",
       "                        <td id=\"T_1b92f44a_3e83_11eb_8a61_eee646394e7crow2_col4\" class=\"data row2 col4\" >0.071</td>\n",
       "                        <td id=\"T_1b92f44a_3e83_11eb_8a61_eee646394e7crow2_col5\" class=\"data row2 col5\" >-0.033</td>\n",
       "                        <td id=\"T_1b92f44a_3e83_11eb_8a61_eee646394e7crow2_col6\" class=\"data row2 col6\" >0.81</td>\n",
       "                        <td id=\"T_1b92f44a_3e83_11eb_8a61_eee646394e7crow2_col7\" class=\"data row2 col7\" >-0.26</td>\n",
       "                        <td id=\"T_1b92f44a_3e83_11eb_8a61_eee646394e7crow2_col8\" class=\"data row2 col8\" >0.023</td>\n",
       "                        <td id=\"T_1b92f44a_3e83_11eb_8a61_eee646394e7crow2_col9\" class=\"data row2 col9\" >0.068</td>\n",
       "            </tr>\n",
       "            <tr>\n",
       "                        <th id=\"T_1b92f44a_3e83_11eb_8a61_eee646394e7clevel0_row3\" class=\"row_heading level0 row3\" >V4</th>\n",
       "                        <td id=\"T_1b92f44a_3e83_11eb_8a61_eee646394e7crow3_col0\" class=\"data row3 col0\" >0.012</td>\n",
       "                        <td id=\"T_1b92f44a_3e83_11eb_8a61_eee646394e7crow3_col1\" class=\"data row3 col1\" >0.043</td>\n",
       "                        <td id=\"T_1b92f44a_3e83_11eb_8a61_eee646394e7crow3_col2\" class=\"data row3 col2\" >0.11</td>\n",
       "                        <td id=\"T_1b92f44a_3e83_11eb_8a61_eee646394e7crow3_col3\" class=\"data row3 col3\" >1.0</td>\n",
       "                        <td id=\"T_1b92f44a_3e83_11eb_8a61_eee646394e7crow3_col4\" class=\"data row3 col4\" >0.011</td>\n",
       "                        <td id=\"T_1b92f44a_3e83_11eb_8a61_eee646394e7crow3_col5\" class=\"data row3 col5\" >-0.37</td>\n",
       "                        <td id=\"T_1b92f44a_3e83_11eb_8a61_eee646394e7crow3_col6\" class=\"data row3 col6\" >0.075</td>\n",
       "                        <td id=\"T_1b92f44a_3e83_11eb_8a61_eee646394e7crow3_col7\" class=\"data row3 col7\" >-0.049</td>\n",
       "                        <td id=\"T_1b92f44a_3e83_11eb_8a61_eee646394e7crow3_col8\" class=\"data row3 col8\" >0.021</td>\n",
       "                        <td id=\"T_1b92f44a_3e83_11eb_8a61_eee646394e7crow3_col9\" class=\"data row3 col9\" >0.08</td>\n",
       "            </tr>\n",
       "            <tr>\n",
       "                        <th id=\"T_1b92f44a_3e83_11eb_8a61_eee646394e7clevel0_row4\" class=\"row_heading level0 row4\" >V5</th>\n",
       "                        <td id=\"T_1b92f44a_3e83_11eb_8a61_eee646394e7crow4_col0\" class=\"data row4 col0\" >0.073</td>\n",
       "                        <td id=\"T_1b92f44a_3e83_11eb_8a61_eee646394e7crow4_col1\" class=\"data row4 col1\" >0.013</td>\n",
       "                        <td id=\"T_1b92f44a_3e83_11eb_8a61_eee646394e7crow4_col2\" class=\"data row4 col2\" >0.071</td>\n",
       "                        <td id=\"T_1b92f44a_3e83_11eb_8a61_eee646394e7crow4_col3\" class=\"data row4 col3\" >0.011</td>\n",
       "                        <td id=\"T_1b92f44a_3e83_11eb_8a61_eee646394e7crow4_col4\" class=\"data row4 col4\" >1.0</td>\n",
       "                        <td id=\"T_1b92f44a_3e83_11eb_8a61_eee646394e7crow4_col5\" class=\"data row4 col5\" >0.042</td>\n",
       "                        <td id=\"T_1b92f44a_3e83_11eb_8a61_eee646394e7crow4_col6\" class=\"data row4 col6\" >0.025</td>\n",
       "                        <td id=\"T_1b92f44a_3e83_11eb_8a61_eee646394e7crow4_col7\" class=\"data row4 col7\" >-0.19</td>\n",
       "                        <td id=\"T_1b92f44a_3e83_11eb_8a61_eee646394e7crow4_col8\" class=\"data row4 col8\" >0.034</td>\n",
       "                        <td id=\"T_1b92f44a_3e83_11eb_8a61_eee646394e7crow4_col9\" class=\"data row4 col9\" >0.073</td>\n",
       "            </tr>\n",
       "            <tr>\n",
       "                        <th id=\"T_1b92f44a_3e83_11eb_8a61_eee646394e7clevel0_row5\" class=\"row_heading level0 row5\" >V6</th>\n",
       "                        <td id=\"T_1b92f44a_3e83_11eb_8a61_eee646394e7crow5_col0\" class=\"data row5 col0\" >0.052</td>\n",
       "                        <td id=\"T_1b92f44a_3e83_11eb_8a61_eee646394e7crow5_col1\" class=\"data row5 col1\" >0.015</td>\n",
       "                        <td id=\"T_1b92f44a_3e83_11eb_8a61_eee646394e7crow5_col2\" class=\"data row5 col2\" >-0.033</td>\n",
       "                        <td id=\"T_1b92f44a_3e83_11eb_8a61_eee646394e7crow5_col3\" class=\"data row5 col3\" >-0.37</td>\n",
       "                        <td id=\"T_1b92f44a_3e83_11eb_8a61_eee646394e7crow5_col4\" class=\"data row5 col4\" >0.042</td>\n",
       "                        <td id=\"T_1b92f44a_3e83_11eb_8a61_eee646394e7crow5_col5\" class=\"data row5 col5\" >1.0</td>\n",
       "                        <td id=\"T_1b92f44a_3e83_11eb_8a61_eee646394e7crow5_col6\" class=\"data row5 col6\" >-0.018</td>\n",
       "                        <td id=\"T_1b92f44a_3e83_11eb_8a61_eee646394e7crow5_col7\" class=\"data row5 col7\" >0.019</td>\n",
       "                        <td id=\"T_1b92f44a_3e83_11eb_8a61_eee646394e7crow5_col8\" class=\"data row5 col8\" >-0.0023</td>\n",
       "                        <td id=\"T_1b92f44a_3e83_11eb_8a61_eee646394e7crow5_col9\" class=\"data row5 col9\" >-0.013</td>\n",
       "            </tr>\n",
       "            <tr>\n",
       "                        <th id=\"T_1b92f44a_3e83_11eb_8a61_eee646394e7clevel0_row6\" class=\"row_heading level0 row6\" >V7</th>\n",
       "                        <td id=\"T_1b92f44a_3e83_11eb_8a61_eee646394e7crow6_col0\" class=\"data row6 col0\" >-0.023</td>\n",
       "                        <td id=\"T_1b92f44a_3e83_11eb_8a61_eee646394e7crow6_col1\" class=\"data row6 col1\" >0.49</td>\n",
       "                        <td id=\"T_1b92f44a_3e83_11eb_8a61_eee646394e7crow6_col2\" class=\"data row6 col2\" >0.81</td>\n",
       "                        <td id=\"T_1b92f44a_3e83_11eb_8a61_eee646394e7crow6_col3\" class=\"data row6 col3\" >0.075</td>\n",
       "                        <td id=\"T_1b92f44a_3e83_11eb_8a61_eee646394e7crow6_col4\" class=\"data row6 col4\" >0.025</td>\n",
       "                        <td id=\"T_1b92f44a_3e83_11eb_8a61_eee646394e7crow6_col5\" class=\"data row6 col5\" >-0.018</td>\n",
       "                        <td id=\"T_1b92f44a_3e83_11eb_8a61_eee646394e7crow6_col6\" class=\"data row6 col6\" >1.0</td>\n",
       "                        <td id=\"T_1b92f44a_3e83_11eb_8a61_eee646394e7crow6_col7\" class=\"data row6 col7\" >-0.18</td>\n",
       "                        <td id=\"T_1b92f44a_3e83_11eb_8a61_eee646394e7crow6_col8\" class=\"data row6 col8\" >0.022</td>\n",
       "                        <td id=\"T_1b92f44a_3e83_11eb_8a61_eee646394e7crow6_col9\" class=\"data row6 col9\" >0.08</td>\n",
       "            </tr>\n",
       "            <tr>\n",
       "                        <th id=\"T_1b92f44a_3e83_11eb_8a61_eee646394e7clevel0_row7\" class=\"row_heading level0 row7\" >V8</th>\n",
       "                        <td id=\"T_1b92f44a_3e83_11eb_8a61_eee646394e7crow7_col0\" class=\"data row7 col0\" >-0.14</td>\n",
       "                        <td id=\"T_1b92f44a_3e83_11eb_8a61_eee646394e7crow7_col1\" class=\"data row7 col1\" >-0.12</td>\n",
       "                        <td id=\"T_1b92f44a_3e83_11eb_8a61_eee646394e7crow7_col2\" class=\"data row7 col2\" >-0.26</td>\n",
       "                        <td id=\"T_1b92f44a_3e83_11eb_8a61_eee646394e7crow7_col3\" class=\"data row7 col3\" >-0.049</td>\n",
       "                        <td id=\"T_1b92f44a_3e83_11eb_8a61_eee646394e7crow7_col4\" class=\"data row7 col4\" >-0.19</td>\n",
       "                        <td id=\"T_1b92f44a_3e83_11eb_8a61_eee646394e7crow7_col5\" class=\"data row7 col5\" >0.019</td>\n",
       "                        <td id=\"T_1b92f44a_3e83_11eb_8a61_eee646394e7crow7_col6\" class=\"data row7 col6\" >-0.18</td>\n",
       "                        <td id=\"T_1b92f44a_3e83_11eb_8a61_eee646394e7crow7_col7\" class=\"data row7 col7\" >1.0</td>\n",
       "                        <td id=\"T_1b92f44a_3e83_11eb_8a61_eee646394e7crow7_col8\" class=\"data row7 col8\" >-0.039</td>\n",
       "                        <td id=\"T_1b92f44a_3e83_11eb_8a61_eee646394e7crow7_col9\" class=\"data row7 col9\" >-0.039</td>\n",
       "            </tr>\n",
       "            <tr>\n",
       "                        <th id=\"T_1b92f44a_3e83_11eb_8a61_eee646394e7clevel0_row8\" class=\"row_heading level0 row8\" >V9</th>\n",
       "                        <td id=\"T_1b92f44a_3e83_11eb_8a61_eee646394e7crow8_col0\" class=\"data row8 col0\" >0.028</td>\n",
       "                        <td id=\"T_1b92f44a_3e83_11eb_8a61_eee646394e7crow8_col1\" class=\"data row8 col1\" >0.011</td>\n",
       "                        <td id=\"T_1b92f44a_3e83_11eb_8a61_eee646394e7crow8_col2\" class=\"data row8 col2\" >0.023</td>\n",
       "                        <td id=\"T_1b92f44a_3e83_11eb_8a61_eee646394e7crow8_col3\" class=\"data row8 col3\" >0.021</td>\n",
       "                        <td id=\"T_1b92f44a_3e83_11eb_8a61_eee646394e7crow8_col4\" class=\"data row8 col4\" >0.034</td>\n",
       "                        <td id=\"T_1b92f44a_3e83_11eb_8a61_eee646394e7crow8_col5\" class=\"data row8 col5\" >-0.0023</td>\n",
       "                        <td id=\"T_1b92f44a_3e83_11eb_8a61_eee646394e7crow8_col6\" class=\"data row8 col6\" >0.022</td>\n",
       "                        <td id=\"T_1b92f44a_3e83_11eb_8a61_eee646394e7crow8_col7\" class=\"data row8 col7\" >-0.039</td>\n",
       "                        <td id=\"T_1b92f44a_3e83_11eb_8a61_eee646394e7crow8_col8\" class=\"data row8 col8\" >1.0</td>\n",
       "                        <td id=\"T_1b92f44a_3e83_11eb_8a61_eee646394e7crow8_col9\" class=\"data row8 col9\" >0.018</td>\n",
       "            </tr>\n",
       "            <tr>\n",
       "                        <th id=\"T_1b92f44a_3e83_11eb_8a61_eee646394e7clevel0_row9\" class=\"row_heading level0 row9\" >V10</th>\n",
       "                        <td id=\"T_1b92f44a_3e83_11eb_8a61_eee646394e7crow9_col0\" class=\"data row9 col0\" >0.0063</td>\n",
       "                        <td id=\"T_1b92f44a_3e83_11eb_8a61_eee646394e7crow9_col1\" class=\"data row9 col1\" >0.051</td>\n",
       "                        <td id=\"T_1b92f44a_3e83_11eb_8a61_eee646394e7crow9_col2\" class=\"data row9 col2\" >0.068</td>\n",
       "                        <td id=\"T_1b92f44a_3e83_11eb_8a61_eee646394e7crow9_col3\" class=\"data row9 col3\" >0.08</td>\n",
       "                        <td id=\"T_1b92f44a_3e83_11eb_8a61_eee646394e7crow9_col4\" class=\"data row9 col4\" >0.073</td>\n",
       "                        <td id=\"T_1b92f44a_3e83_11eb_8a61_eee646394e7crow9_col5\" class=\"data row9 col5\" >-0.013</td>\n",
       "                        <td id=\"T_1b92f44a_3e83_11eb_8a61_eee646394e7crow9_col6\" class=\"data row9 col6\" >0.08</td>\n",
       "                        <td id=\"T_1b92f44a_3e83_11eb_8a61_eee646394e7crow9_col7\" class=\"data row9 col7\" >-0.039</td>\n",
       "                        <td id=\"T_1b92f44a_3e83_11eb_8a61_eee646394e7crow9_col8\" class=\"data row9 col8\" >0.018</td>\n",
       "                        <td id=\"T_1b92f44a_3e83_11eb_8a61_eee646394e7crow9_col9\" class=\"data row9 col9\" >1.0</td>\n",
       "            </tr>\n",
       "    </tbody></table>"
      ],
      "text/plain": [
       "<pandas.io.formats.style.Styler at 0x7fe20428e2e8>"
      ]
     },
     "execution_count": 24,
     "metadata": {},
     "output_type": "execute_result"
    }
   ],
   "source": [
    "df_v.corr().style.format(\"{:.2}\").background_gradient()"
   ]
  },
  {
   "cell_type": "markdown",
   "metadata": {},
   "source": [
    "Atraves da analise de correlação de person não vemos correlação muito forte entre 2 variaveis. inclusive pode-se dizer que\n",
    "as variaveis tem em geral correlação Fraca ou desprezivel, com execção das variaveis V3 e V7 tem uma correlação forte,"
   ]
  },
  {
   "cell_type": "markdown",
   "metadata": {},
   "source": [
    "Dados levando em conta os seguintes padrões"
   ]
  },
  {
   "cell_type": "markdown",
   "metadata": {},
   "source": [
    "0.9 para mais ou para menos indica uma correlação muito forte.\n",
    "0.7 a 0.9 positivo ou negativo indica uma correlação forte.\n",
    "0.5 a 0.7 positivo ou negativo indica uma correlação moderada.\n",
    "0.3 a 0.5 positivo ou negativo indica uma correlação fraca.\n",
    "0 a 0.3 positivo ou negativo indica uma correlação desprezível."
   ]
  },
  {
   "cell_type": "markdown",
   "metadata": {},
   "source": [
    "# Variação dos eventos targets com o tempo"
   ]
  },
  {
   "cell_type": "code",
   "execution_count": 25,
   "metadata": {},
   "outputs": [],
   "source": [
    "df_s_target = df[['Safra', 'TARGET']]"
   ]
  },
  {
   "cell_type": "code",
   "execution_count": 26,
   "metadata": {},
   "outputs": [],
   "source": [
    "df_s_target = df_s_target.groupby(['Safra']).sum()"
   ]
  },
  {
   "cell_type": "code",
   "execution_count": 27,
   "metadata": {},
   "outputs": [
    {
     "data": {
      "text/html": [
       "<div>\n",
       "<style scoped>\n",
       "    .dataframe tbody tr th:only-of-type {\n",
       "        vertical-align: middle;\n",
       "    }\n",
       "\n",
       "    .dataframe tbody tr th {\n",
       "        vertical-align: top;\n",
       "    }\n",
       "\n",
       "    .dataframe thead th {\n",
       "        text-align: right;\n",
       "    }\n",
       "</style>\n",
       "<table border=\"1\" class=\"dataframe\">\n",
       "  <thead>\n",
       "    <tr style=\"text-align: right;\">\n",
       "      <th></th>\n",
       "      <th>TARGET</th>\n",
       "    </tr>\n",
       "    <tr>\n",
       "      <th>Safra</th>\n",
       "      <th></th>\n",
       "    </tr>\n",
       "  </thead>\n",
       "  <tbody>\n",
       "    <tr>\n",
       "      <th>201901</th>\n",
       "      <td>11</td>\n",
       "    </tr>\n",
       "    <tr>\n",
       "      <th>201902</th>\n",
       "      <td>12</td>\n",
       "    </tr>\n",
       "    <tr>\n",
       "      <th>201903</th>\n",
       "      <td>8</td>\n",
       "    </tr>\n",
       "    <tr>\n",
       "      <th>201904</th>\n",
       "      <td>9</td>\n",
       "    </tr>\n",
       "    <tr>\n",
       "      <th>201905</th>\n",
       "      <td>12</td>\n",
       "    </tr>\n",
       "    <tr>\n",
       "      <th>201906</th>\n",
       "      <td>9</td>\n",
       "    </tr>\n",
       "    <tr>\n",
       "      <th>201907</th>\n",
       "      <td>10</td>\n",
       "    </tr>\n",
       "    <tr>\n",
       "      <th>201908</th>\n",
       "      <td>11</td>\n",
       "    </tr>\n",
       "    <tr>\n",
       "      <th>201909</th>\n",
       "      <td>7</td>\n",
       "    </tr>\n",
       "    <tr>\n",
       "      <th>201910</th>\n",
       "      <td>9</td>\n",
       "    </tr>\n",
       "    <tr>\n",
       "      <th>201911</th>\n",
       "      <td>7</td>\n",
       "    </tr>\n",
       "    <tr>\n",
       "      <th>201912</th>\n",
       "      <td>15</td>\n",
       "    </tr>\n",
       "  </tbody>\n",
       "</table>\n",
       "</div>"
      ],
      "text/plain": [
       "        TARGET\n",
       "Safra         \n",
       "201901      11\n",
       "201902      12\n",
       "201903       8\n",
       "201904       9\n",
       "201905      12\n",
       "201906       9\n",
       "201907      10\n",
       "201908      11\n",
       "201909       7\n",
       "201910       9\n",
       "201911       7\n",
       "201912      15"
      ]
     },
     "execution_count": 27,
     "metadata": {},
     "output_type": "execute_result"
    }
   ],
   "source": [
    "df_s_target"
   ]
  },
  {
   "cell_type": "code",
   "execution_count": 28,
   "metadata": {},
   "outputs": [
    {
     "data": {
      "image/png": "[encoded data removed]",
      "text/plain": [
       "<Figure size 432x288 with 1 Axes>"
      ]
     },
     "metadata": {
      "needs_background": "light"
     },
     "output_type": "display_data"
    }
   ],
   "source": [
    "plt.plot(df_s_target)\n",
    "plt.ylim(2, 20)\n",
    "plt.title('Target event over time')\n",
    "plt.ylabel('Count')\n",
    "plt.xlabel('Time');"
   ]
  },
  {
   "cell_type": "markdown",
   "metadata": {},
   "source": [
    "Apesar do mes com mais eventos ser dezembro, ter o dobro dos meses com menos variações setembro e novembro. Não é possivel afirmar se isso se trata de um fenonimo de sazionalidade, uma vez que só há um ano em analise. nesse caso a sazionalidade não será considerada na analise pois pode enviezar o trabalho.\n"
   ]
  },
  {
   "cell_type": "markdown",
   "metadata": {},
   "source": [
    "# Relação das demais variaveis com a variavel target"
   ]
  },
  {
   "cell_type": "markdown",
   "metadata": {},
   "source": [
    "Os testes a seguir tem como objetivo verificar que não existe uma ligação forte da variavel target com outra variavel \n",
    "e visualiar a relação dos outliers com a variavel target."
   ]
  },
  {
   "cell_type": "code",
   "execution_count": 29,
   "metadata": {},
   "outputs": [],
   "source": [
    "df_v_target = df.drop(columns=['Safra'])"
   ]
  },
  {
   "cell_type": "code",
   "execution_count": 30,
   "metadata": {},
   "outputs": [],
   "source": [
    "col_name=\"TARGET\"\n",
    "first_col = df_v_target.pop(col_name)\n",
    "df_v_target.insert(0, col_name, first_col)"
   ]
  },
  {
   "cell_type": "code",
   "execution_count": 31,
   "metadata": {},
   "outputs": [
    {
     "data": {
      "text/html": [
       "<div>\n",
       "<style scoped>\n",
       "    .dataframe tbody tr th:only-of-type {\n",
       "        vertical-align: middle;\n",
       "    }\n",
       "\n",
       "    .dataframe tbody tr th {\n",
       "        vertical-align: top;\n",
       "    }\n",
       "\n",
       "    .dataframe thead th {\n",
       "        text-align: right;\n",
       "    }\n",
       "</style>\n",
       "<table border=\"1\" class=\"dataframe\">\n",
       "  <thead>\n",
       "    <tr style=\"text-align: right;\">\n",
       "      <th></th>\n",
       "      <th>TARGET</th>\n",
       "      <th>V1</th>\n",
       "      <th>V2</th>\n",
       "      <th>V3</th>\n",
       "      <th>V4</th>\n",
       "      <th>V5</th>\n",
       "      <th>V6</th>\n",
       "      <th>V7</th>\n",
       "      <th>V8</th>\n",
       "      <th>V9</th>\n",
       "      <th>V10</th>\n",
       "    </tr>\n",
       "  </thead>\n",
       "  <tbody>\n",
       "    <tr>\n",
       "      <th>0</th>\n",
       "      <td>0</td>\n",
       "      <td>0</td>\n",
       "      <td>8.1</td>\n",
       "      <td>9.99</td>\n",
       "      <td>1968</td>\n",
       "      <td>0</td>\n",
       "      <td>0</td>\n",
       "      <td>15.15</td>\n",
       "      <td>0</td>\n",
       "      <td>0</td>\n",
       "      <td>0</td>\n",
       "    </tr>\n",
       "    <tr>\n",
       "      <th>1</th>\n",
       "      <td>0</td>\n",
       "      <td>0</td>\n",
       "      <td>4.4</td>\n",
       "      <td>35.00</td>\n",
       "      <td>1369</td>\n",
       "      <td>0</td>\n",
       "      <td>0</td>\n",
       "      <td>63.98</td>\n",
       "      <td>1</td>\n",
       "      <td>0</td>\n",
       "      <td>0</td>\n",
       "    </tr>\n",
       "    <tr>\n",
       "      <th>2</th>\n",
       "      <td>0</td>\n",
       "      <td>0</td>\n",
       "      <td>0.7</td>\n",
       "      <td>52.99</td>\n",
       "      <td>1228</td>\n",
       "      <td>0</td>\n",
       "      <td>0</td>\n",
       "      <td>98.84</td>\n",
       "      <td>0</td>\n",
       "      <td>0</td>\n",
       "      <td>0</td>\n",
       "    </tr>\n",
       "    <tr>\n",
       "      <th>3</th>\n",
       "      <td>0</td>\n",
       "      <td>0</td>\n",
       "      <td>63.3</td>\n",
       "      <td>810.00</td>\n",
       "      <td>0</td>\n",
       "      <td>0</td>\n",
       "      <td>1</td>\n",
       "      <td>9237.21</td>\n",
       "      <td>0</td>\n",
       "      <td>0</td>\n",
       "      <td>0</td>\n",
       "    </tr>\n",
       "    <tr>\n",
       "      <th>4</th>\n",
       "      <td>0</td>\n",
       "      <td>0</td>\n",
       "      <td>4.1</td>\n",
       "      <td>17.50</td>\n",
       "      <td>0</td>\n",
       "      <td>0</td>\n",
       "      <td>1</td>\n",
       "      <td>27.70</td>\n",
       "      <td>1</td>\n",
       "      <td>0</td>\n",
       "      <td>0</td>\n",
       "    </tr>\n",
       "    <tr>\n",
       "      <th>...</th>\n",
       "      <td>...</td>\n",
       "      <td>...</td>\n",
       "      <td>...</td>\n",
       "      <td>...</td>\n",
       "      <td>...</td>\n",
       "      <td>...</td>\n",
       "      <td>...</td>\n",
       "      <td>...</td>\n",
       "      <td>...</td>\n",
       "      <td>...</td>\n",
       "      <td>...</td>\n",
       "    </tr>\n",
       "    <tr>\n",
       "      <th>11164</th>\n",
       "      <td>0</td>\n",
       "      <td>0</td>\n",
       "      <td>86.4</td>\n",
       "      <td>5.00</td>\n",
       "      <td>1964</td>\n",
       "      <td>0</td>\n",
       "      <td>0</td>\n",
       "      <td>31.57</td>\n",
       "      <td>1</td>\n",
       "      <td>0</td>\n",
       "      <td>0</td>\n",
       "    </tr>\n",
       "    <tr>\n",
       "      <th>11165</th>\n",
       "      <td>0</td>\n",
       "      <td>0</td>\n",
       "      <td>6.7</td>\n",
       "      <td>55.00</td>\n",
       "      <td>0</td>\n",
       "      <td>0</td>\n",
       "      <td>1</td>\n",
       "      <td>114.51</td>\n",
       "      <td>0</td>\n",
       "      <td>0</td>\n",
       "      <td>0</td>\n",
       "    </tr>\n",
       "    <tr>\n",
       "      <th>11166</th>\n",
       "      <td>0</td>\n",
       "      <td>0</td>\n",
       "      <td>1.2</td>\n",
       "      <td>100.00</td>\n",
       "      <td>1120</td>\n",
       "      <td>0</td>\n",
       "      <td>0</td>\n",
       "      <td>213.57</td>\n",
       "      <td>1</td>\n",
       "      <td>0</td>\n",
       "      <td>0</td>\n",
       "    </tr>\n",
       "    <tr>\n",
       "      <th>11167</th>\n",
       "      <td>0</td>\n",
       "      <td>0</td>\n",
       "      <td>11.0</td>\n",
       "      <td>85.00</td>\n",
       "      <td>2005</td>\n",
       "      <td>0</td>\n",
       "      <td>0</td>\n",
       "      <td>208.33</td>\n",
       "      <td>0</td>\n",
       "      <td>0</td>\n",
       "      <td>0</td>\n",
       "    </tr>\n",
       "    <tr>\n",
       "      <th>11168</th>\n",
       "      <td>0</td>\n",
       "      <td>0</td>\n",
       "      <td>97.9</td>\n",
       "      <td>2230.00</td>\n",
       "      <td>1440</td>\n",
       "      <td>0</td>\n",
       "      <td>0</td>\n",
       "      <td>51997.12</td>\n",
       "      <td>0</td>\n",
       "      <td>0</td>\n",
       "      <td>0</td>\n",
       "    </tr>\n",
       "  </tbody>\n",
       "</table>\n",
       "<p>11169 rows × 11 columns</p>\n",
       "</div>"
      ],
      "text/plain": [
       "       TARGET  V1    V2       V3    V4  V5  V6        V7  V8  V9  V10\n",
       "0           0   0   8.1     9.99  1968   0   0     15.15   0   0    0\n",
       "1           0   0   4.4    35.00  1369   0   0     63.98   1   0    0\n",
       "2           0   0   0.7    52.99  1228   0   0     98.84   0   0    0\n",
       "3           0   0  63.3   810.00     0   0   1   9237.21   0   0    0\n",
       "4           0   0   4.1    17.50     0   0   1     27.70   1   0    0\n",
       "...       ...  ..   ...      ...   ...  ..  ..       ...  ..  ..  ...\n",
       "11164       0   0  86.4     5.00  1964   0   0     31.57   1   0    0\n",
       "11165       0   0   6.7    55.00     0   0   1    114.51   0   0    0\n",
       "11166       0   0   1.2   100.00  1120   0   0    213.57   1   0    0\n",
       "11167       0   0  11.0    85.00  2005   0   0    208.33   0   0    0\n",
       "11168       0   0  97.9  2230.00  1440   0   0  51997.12   0   0    0\n",
       "\n",
       "[11169 rows x 11 columns]"
      ]
     },
     "execution_count": 31,
     "metadata": {},
     "output_type": "execute_result"
    }
   ],
   "source": [
    "df_v_target"
   ]
  },
  {
   "cell_type": "code",
   "execution_count": 32,
   "metadata": {},
   "outputs": [
    {
     "data": {
      "text/html": [
       "<style  type=\"text/css\" >\n",
       "    #T_1bdeb56a_3e83_11eb_8a61_eee646394e7crow0_col0 {\n",
       "            background-color:  #023858;\n",
       "            color:  #f1f1f1;\n",
       "        }    #T_1bdeb56a_3e83_11eb_8a61_eee646394e7crow0_col1 {\n",
       "            background-color:  #e5e1ef;\n",
       "            color:  #000000;\n",
       "        }    #T_1bdeb56a_3e83_11eb_8a61_eee646394e7crow0_col2 {\n",
       "            background-color:  #e2dfee;\n",
       "            color:  #000000;\n",
       "        }    #T_1bdeb56a_3e83_11eb_8a61_eee646394e7crow0_col3 {\n",
       "            background-color:  #d0d1e6;\n",
       "            color:  #000000;\n",
       "        }    #T_1bdeb56a_3e83_11eb_8a61_eee646394e7crow0_col4 {\n",
       "            background-color:  #cccfe5;\n",
       "            color:  #000000;\n",
       "        }    #T_1bdeb56a_3e83_11eb_8a61_eee646394e7crow0_col5 {\n",
       "            background-color:  #9fbad9;\n",
       "            color:  #000000;\n",
       "        }    #T_1bdeb56a_3e83_11eb_8a61_eee646394e7crow0_col6 {\n",
       "            background-color:  #b9c6e0;\n",
       "            color:  #000000;\n",
       "        }    #T_1bdeb56a_3e83_11eb_8a61_eee646394e7crow0_col7 {\n",
       "            background-color:  #dfddec;\n",
       "            color:  #000000;\n",
       "        }    #T_1bdeb56a_3e83_11eb_8a61_eee646394e7crow0_col8 {\n",
       "            background-color:  #e4e1ef;\n",
       "            color:  #000000;\n",
       "        }    #T_1bdeb56a_3e83_11eb_8a61_eee646394e7crow0_col9 {\n",
       "            background-color:  #f1ebf5;\n",
       "            color:  #000000;\n",
       "        }    #T_1bdeb56a_3e83_11eb_8a61_eee646394e7crow0_col10 {\n",
       "            background-color:  #f2ecf5;\n",
       "            color:  #000000;\n",
       "        }    #T_1bdeb56a_3e83_11eb_8a61_eee646394e7crow1_col0 {\n",
       "            background-color:  #f1ebf5;\n",
       "            color:  #000000;\n",
       "        }    #T_1bdeb56a_3e83_11eb_8a61_eee646394e7crow1_col1 {\n",
       "            background-color:  #023858;\n",
       "            color:  #f1f1f1;\n",
       "        }    #T_1bdeb56a_3e83_11eb_8a61_eee646394e7crow1_col2 {\n",
       "            background-color:  #fff7fb;\n",
       "            color:  #000000;\n",
       "        }    #T_1bdeb56a_3e83_11eb_8a61_eee646394e7crow1_col3 {\n",
       "            background-color:  #c1cae2;\n",
       "            color:  #000000;\n",
       "        }    #T_1bdeb56a_3e83_11eb_8a61_eee646394e7crow1_col4 {\n",
       "            background-color:  #c6cce3;\n",
       "            color:  #000000;\n",
       "        }    #T_1bdeb56a_3e83_11eb_8a61_eee646394e7crow1_col5 {\n",
       "            background-color:  #d6d6e9;\n",
       "            color:  #000000;\n",
       "        }    #T_1bdeb56a_3e83_11eb_8a61_eee646394e7crow1_col6 {\n",
       "            background-color:  #bcc7e1;\n",
       "            color:  #000000;\n",
       "        }    #T_1bdeb56a_3e83_11eb_8a61_eee646394e7crow1_col7 {\n",
       "            background-color:  #ebe6f2;\n",
       "            color:  #000000;\n",
       "        }    #T_1bdeb56a_3e83_11eb_8a61_eee646394e7crow1_col8 {\n",
       "            background-color:  #f1ebf5;\n",
       "            color:  #000000;\n",
       "        }    #T_1bdeb56a_3e83_11eb_8a61_eee646394e7crow1_col9 {\n",
       "            background-color:  #f5eff6;\n",
       "            color:  #000000;\n",
       "        }    #T_1bdeb56a_3e83_11eb_8a61_eee646394e7crow1_col10 {\n",
       "            background-color:  #f8f1f8;\n",
       "            color:  #000000;\n",
       "        }    #T_1bdeb56a_3e83_11eb_8a61_eee646394e7crow2_col0 {\n",
       "            background-color:  #eee9f3;\n",
       "            color:  #000000;\n",
       "        }    #T_1bdeb56a_3e83_11eb_8a61_eee646394e7crow2_col1 {\n",
       "            background-color:  #fef6fa;\n",
       "            color:  #000000;\n",
       "        }    #T_1bdeb56a_3e83_11eb_8a61_eee646394e7crow2_col2 {\n",
       "            background-color:  #023858;\n",
       "            color:  #f1f1f1;\n",
       "        }    #T_1bdeb56a_3e83_11eb_8a61_eee646394e7crow2_col3 {\n",
       "            background-color:  #8eb3d5;\n",
       "            color:  #000000;\n",
       "        }    #T_1bdeb56a_3e83_11eb_8a61_eee646394e7crow2_col4 {\n",
       "            background-color:  #bfc9e1;\n",
       "            color:  #000000;\n",
       "        }    #T_1bdeb56a_3e83_11eb_8a61_eee646394e7crow2_col5 {\n",
       "            background-color:  #e1dfed;\n",
       "            color:  #000000;\n",
       "        }    #T_1bdeb56a_3e83_11eb_8a61_eee646394e7crow2_col6 {\n",
       "            background-color:  #c5cce3;\n",
       "            color:  #000000;\n",
       "        }    #T_1bdeb56a_3e83_11eb_8a61_eee646394e7crow2_col7 {\n",
       "            background-color:  #529bc7;\n",
       "            color:  #000000;\n",
       "        }    #T_1bdeb56a_3e83_11eb_8a61_eee646394e7crow2_col8 {\n",
       "            background-color:  #eee9f3;\n",
       "            color:  #000000;\n",
       "        }    #T_1bdeb56a_3e83_11eb_8a61_eee646394e7crow2_col9 {\n",
       "            background-color:  #f8f1f8;\n",
       "            color:  #000000;\n",
       "        }    #T_1bdeb56a_3e83_11eb_8a61_eee646394e7crow2_col10 {\n",
       "            background-color:  #f2ecf5;\n",
       "            color:  #000000;\n",
       "        }    #T_1bdeb56a_3e83_11eb_8a61_eee646394e7crow3_col0 {\n",
       "            background-color:  #efe9f3;\n",
       "            color:  #000000;\n",
       "        }    #T_1bdeb56a_3e83_11eb_8a61_eee646394e7crow3_col1 {\n",
       "            background-color:  #d6d6e9;\n",
       "            color:  #000000;\n",
       "        }    #T_1bdeb56a_3e83_11eb_8a61_eee646394e7crow3_col2 {\n",
       "            background-color:  #a7bddb;\n",
       "            color:  #000000;\n",
       "        }    #T_1bdeb56a_3e83_11eb_8a61_eee646394e7crow3_col3 {\n",
       "            background-color:  #023858;\n",
       "            color:  #f1f1f1;\n",
       "        }    #T_1bdeb56a_3e83_11eb_8a61_eee646394e7crow3_col4 {\n",
       "            background-color:  #adc1dd;\n",
       "            color:  #000000;\n",
       "        }    #T_1bdeb56a_3e83_11eb_8a61_eee646394e7crow3_col5 {\n",
       "            background-color:  #d7d6e9;\n",
       "            color:  #000000;\n",
       "        }    #T_1bdeb56a_3e83_11eb_8a61_eee646394e7crow3_col6 {\n",
       "            background-color:  #d1d2e6;\n",
       "            color:  #000000;\n",
       "        }    #T_1bdeb56a_3e83_11eb_8a61_eee646394e7crow3_col7 {\n",
       "            background-color:  #046198;\n",
       "            color:  #f1f1f1;\n",
       "        }    #T_1bdeb56a_3e83_11eb_8a61_eee646394e7crow3_col8 {\n",
       "            background-color:  #fff7fb;\n",
       "            color:  #000000;\n",
       "        }    #T_1bdeb56a_3e83_11eb_8a61_eee646394e7crow3_col9 {\n",
       "            background-color:  #f6eff7;\n",
       "            color:  #000000;\n",
       "        }    #T_1bdeb56a_3e83_11eb_8a61_eee646394e7crow3_col10 {\n",
       "            background-color:  #f0eaf4;\n",
       "            color:  #000000;\n",
       "        }    #T_1bdeb56a_3e83_11eb_8a61_eee646394e7crow4_col0 {\n",
       "            background-color:  #f8f1f8;\n",
       "            color:  #000000;\n",
       "        }    #T_1bdeb56a_3e83_11eb_8a61_eee646394e7crow4_col1 {\n",
       "            background-color:  #eae6f1;\n",
       "            color:  #000000;\n",
       "        }    #T_1bdeb56a_3e83_11eb_8a61_eee646394e7crow4_col2 {\n",
       "            background-color:  #e6e2ef;\n",
       "            color:  #000000;\n",
       "        }    #T_1bdeb56a_3e83_11eb_8a61_eee646394e7crow4_col3 {\n",
       "            background-color:  #c2cbe2;\n",
       "            color:  #000000;\n",
       "        }    #T_1bdeb56a_3e83_11eb_8a61_eee646394e7crow4_col4 {\n",
       "            background-color:  #023858;\n",
       "            color:  #f1f1f1;\n",
       "        }    #T_1bdeb56a_3e83_11eb_8a61_eee646394e7crow4_col5 {\n",
       "            background-color:  #e2dfee;\n",
       "            color:  #000000;\n",
       "        }    #T_1bdeb56a_3e83_11eb_8a61_eee646394e7crow4_col6 {\n",
       "            background-color:  #fff7fb;\n",
       "            color:  #000000;\n",
       "        }    #T_1bdeb56a_3e83_11eb_8a61_eee646394e7crow4_col7 {\n",
       "            background-color:  #d9d8ea;\n",
       "            color:  #000000;\n",
       "        }    #T_1bdeb56a_3e83_11eb_8a61_eee646394e7crow4_col8 {\n",
       "            background-color:  #e3e0ee;\n",
       "            color:  #000000;\n",
       "        }    #T_1bdeb56a_3e83_11eb_8a61_eee646394e7crow4_col9 {\n",
       "            background-color:  #f7f0f7;\n",
       "            color:  #000000;\n",
       "        }    #T_1bdeb56a_3e83_11eb_8a61_eee646394e7crow4_col10 {\n",
       "            background-color:  #eee8f3;\n",
       "            color:  #000000;\n",
       "        }    #T_1bdeb56a_3e83_11eb_8a61_eee646394e7crow5_col0 {\n",
       "            background-color:  #bbc7e0;\n",
       "            color:  #000000;\n",
       "        }    #T_1bdeb56a_3e83_11eb_8a61_eee646394e7crow5_col1 {\n",
       "            background-color:  #dedcec;\n",
       "            color:  #000000;\n",
       "        }    #T_1bdeb56a_3e83_11eb_8a61_eee646394e7crow5_col2 {\n",
       "            background-color:  #ece7f2;\n",
       "            color:  #000000;\n",
       "        }    #T_1bdeb56a_3e83_11eb_8a61_eee646394e7crow5_col3 {\n",
       "            background-color:  #cdd0e5;\n",
       "            color:  #000000;\n",
       "        }    #T_1bdeb56a_3e83_11eb_8a61_eee646394e7crow5_col4 {\n",
       "            background-color:  #c6cce3;\n",
       "            color:  #000000;\n",
       "        }    #T_1bdeb56a_3e83_11eb_8a61_eee646394e7crow5_col5 {\n",
       "            background-color:  #023858;\n",
       "            color:  #f1f1f1;\n",
       "        }    #T_1bdeb56a_3e83_11eb_8a61_eee646394e7crow5_col6 {\n",
       "            background-color:  #bfc9e1;\n",
       "            color:  #000000;\n",
       "        }    #T_1bdeb56a_3e83_11eb_8a61_eee646394e7crow5_col7 {\n",
       "            background-color:  #e1dfed;\n",
       "            color:  #000000;\n",
       "        }    #T_1bdeb56a_3e83_11eb_8a61_eee646394e7crow5_col8 {\n",
       "            background-color:  #f7f0f7;\n",
       "            color:  #000000;\n",
       "        }    #T_1bdeb56a_3e83_11eb_8a61_eee646394e7crow5_col9 {\n",
       "            background-color:  #f4eef6;\n",
       "            color:  #000000;\n",
       "        }    #T_1bdeb56a_3e83_11eb_8a61_eee646394e7crow5_col10 {\n",
       "            background-color:  #efe9f3;\n",
       "            color:  #000000;\n",
       "        }    #T_1bdeb56a_3e83_11eb_8a61_eee646394e7crow6_col0 {\n",
       "            background-color:  #eee9f3;\n",
       "            color:  #000000;\n",
       "        }    #T_1bdeb56a_3e83_11eb_8a61_eee646394e7crow6_col1 {\n",
       "            background-color:  #e2dfee;\n",
       "            color:  #000000;\n",
       "        }    #T_1bdeb56a_3e83_11eb_8a61_eee646394e7crow6_col2 {\n",
       "            background-color:  #ebe6f2;\n",
       "            color:  #000000;\n",
       "        }    #T_1bdeb56a_3e83_11eb_8a61_eee646394e7crow6_col3 {\n",
       "            background-color:  #e0deed;\n",
       "            color:  #000000;\n",
       "        }    #T_1bdeb56a_3e83_11eb_8a61_eee646394e7crow6_col4 {\n",
       "            background-color:  #fff7fb;\n",
       "            color:  #000000;\n",
       "        }    #T_1bdeb56a_3e83_11eb_8a61_eee646394e7crow6_col5 {\n",
       "            background-color:  #dcdaeb;\n",
       "            color:  #000000;\n",
       "        }    #T_1bdeb56a_3e83_11eb_8a61_eee646394e7crow6_col6 {\n",
       "            background-color:  #023858;\n",
       "            color:  #f1f1f1;\n",
       "        }    #T_1bdeb56a_3e83_11eb_8a61_eee646394e7crow6_col7 {\n",
       "            background-color:  #eae6f1;\n",
       "            color:  #000000;\n",
       "        }    #T_1bdeb56a_3e83_11eb_8a61_eee646394e7crow6_col8 {\n",
       "            background-color:  #d7d6e9;\n",
       "            color:  #000000;\n",
       "        }    #T_1bdeb56a_3e83_11eb_8a61_eee646394e7crow6_col9 {\n",
       "            background-color:  #faf2f8;\n",
       "            color:  #000000;\n",
       "        }    #T_1bdeb56a_3e83_11eb_8a61_eee646394e7crow6_col10 {\n",
       "            background-color:  #fbf4f9;\n",
       "            color:  #000000;\n",
       "        }    #T_1bdeb56a_3e83_11eb_8a61_eee646394e7crow7_col0 {\n",
       "            background-color:  #f1ebf5;\n",
       "            color:  #000000;\n",
       "        }    #T_1bdeb56a_3e83_11eb_8a61_eee646394e7crow7_col1 {\n",
       "            background-color:  #f0eaf4;\n",
       "            color:  #000000;\n",
       "        }    #T_1bdeb56a_3e83_11eb_8a61_eee646394e7crow7_col2 {\n",
       "            background-color:  #5a9ec9;\n",
       "            color:  #000000;\n",
       "        }    #T_1bdeb56a_3e83_11eb_8a61_eee646394e7crow7_col3 {\n",
       "            background-color:  #045f95;\n",
       "            color:  #f1f1f1;\n",
       "        }    #T_1bdeb56a_3e83_11eb_8a61_eee646394e7crow7_col4 {\n",
       "            background-color:  #b7c5df;\n",
       "            color:  #000000;\n",
       "        }    #T_1bdeb56a_3e83_11eb_8a61_eee646394e7crow7_col5 {\n",
       "            background-color:  #e0dded;\n",
       "            color:  #000000;\n",
       "        }    #T_1bdeb56a_3e83_11eb_8a61_eee646394e7crow7_col6 {\n",
       "            background-color:  #cdd0e5;\n",
       "            color:  #000000;\n",
       "        }    #T_1bdeb56a_3e83_11eb_8a61_eee646394e7crow7_col7 {\n",
       "            background-color:  #023858;\n",
       "            color:  #f1f1f1;\n",
       "        }    #T_1bdeb56a_3e83_11eb_8a61_eee646394e7crow7_col8 {\n",
       "            background-color:  #f5eff6;\n",
       "            color:  #000000;\n",
       "        }    #T_1bdeb56a_3e83_11eb_8a61_eee646394e7crow7_col9 {\n",
       "            background-color:  #f6eff7;\n",
       "            color:  #000000;\n",
       "        }    #T_1bdeb56a_3e83_11eb_8a61_eee646394e7crow7_col10 {\n",
       "            background-color:  #eee8f3;\n",
       "            color:  #000000;\n",
       "        }    #T_1bdeb56a_3e83_11eb_8a61_eee646394e7crow8_col0 {\n",
       "            background-color:  #fff7fb;\n",
       "            color:  #000000;\n",
       "        }    #T_1bdeb56a_3e83_11eb_8a61_eee646394e7crow8_col1 {\n",
       "            background-color:  #fff7fb;\n",
       "            color:  #000000;\n",
       "        }    #T_1bdeb56a_3e83_11eb_8a61_eee646394e7crow8_col2 {\n",
       "            background-color:  #fdf5fa;\n",
       "            color:  #000000;\n",
       "        }    #T_1bdeb56a_3e83_11eb_8a61_eee646394e7crow8_col3 {\n",
       "            background-color:  #fff7fb;\n",
       "            color:  #000000;\n",
       "        }    #T_1bdeb56a_3e83_11eb_8a61_eee646394e7crow8_col4 {\n",
       "            background-color:  #d3d4e7;\n",
       "            color:  #000000;\n",
       "        }    #T_1bdeb56a_3e83_11eb_8a61_eee646394e7crow8_col5 {\n",
       "            background-color:  #fff7fb;\n",
       "            color:  #000000;\n",
       "        }    #T_1bdeb56a_3e83_11eb_8a61_eee646394e7crow8_col6 {\n",
       "            background-color:  #c4cbe3;\n",
       "            color:  #000000;\n",
       "        }    #T_1bdeb56a_3e83_11eb_8a61_eee646394e7crow8_col7 {\n",
       "            background-color:  #fff7fb;\n",
       "            color:  #000000;\n",
       "        }    #T_1bdeb56a_3e83_11eb_8a61_eee646394e7crow8_col8 {\n",
       "            background-color:  #023858;\n",
       "            color:  #f1f1f1;\n",
       "        }    #T_1bdeb56a_3e83_11eb_8a61_eee646394e7crow8_col9 {\n",
       "            background-color:  #fff7fb;\n",
       "            color:  #000000;\n",
       "        }    #T_1bdeb56a_3e83_11eb_8a61_eee646394e7crow8_col10 {\n",
       "            background-color:  #fff7fb;\n",
       "            color:  #000000;\n",
       "        }    #T_1bdeb56a_3e83_11eb_8a61_eee646394e7crow9_col0 {\n",
       "            background-color:  #efe9f3;\n",
       "            color:  #000000;\n",
       "        }    #T_1bdeb56a_3e83_11eb_8a61_eee646394e7crow9_col1 {\n",
       "            background-color:  #e7e3f0;\n",
       "            color:  #000000;\n",
       "        }    #T_1bdeb56a_3e83_11eb_8a61_eee646394e7crow9_col2 {\n",
       "            background-color:  #ece7f2;\n",
       "            color:  #000000;\n",
       "        }    #T_1bdeb56a_3e83_11eb_8a61_eee646394e7crow9_col3 {\n",
       "            background-color:  #d6d6e9;\n",
       "            color:  #000000;\n",
       "        }    #T_1bdeb56a_3e83_11eb_8a61_eee646394e7crow9_col4 {\n",
       "            background-color:  #c4cbe3;\n",
       "            color:  #000000;\n",
       "        }    #T_1bdeb56a_3e83_11eb_8a61_eee646394e7crow9_col5 {\n",
       "            background-color:  #dedcec;\n",
       "            color:  #000000;\n",
       "        }    #T_1bdeb56a_3e83_11eb_8a61_eee646394e7crow9_col6 {\n",
       "            background-color:  #c9cee4;\n",
       "            color:  #000000;\n",
       "        }    #T_1bdeb56a_3e83_11eb_8a61_eee646394e7crow9_col7 {\n",
       "            background-color:  #e2dfee;\n",
       "            color:  #000000;\n",
       "        }    #T_1bdeb56a_3e83_11eb_8a61_eee646394e7crow9_col8 {\n",
       "            background-color:  #e1dfed;\n",
       "            color:  #000000;\n",
       "        }    #T_1bdeb56a_3e83_11eb_8a61_eee646394e7crow9_col9 {\n",
       "            background-color:  #023858;\n",
       "            color:  #f1f1f1;\n",
       "        }    #T_1bdeb56a_3e83_11eb_8a61_eee646394e7crow9_col10 {\n",
       "            background-color:  #f7f0f7;\n",
       "            color:  #000000;\n",
       "        }    #T_1bdeb56a_3e83_11eb_8a61_eee646394e7crow10_col0 {\n",
       "            background-color:  #f0eaf4;\n",
       "            color:  #000000;\n",
       "        }    #T_1bdeb56a_3e83_11eb_8a61_eee646394e7crow10_col1 {\n",
       "            background-color:  #ebe6f2;\n",
       "            color:  #000000;\n",
       "        }    #T_1bdeb56a_3e83_11eb_8a61_eee646394e7crow10_col2 {\n",
       "            background-color:  #e4e1ef;\n",
       "            color:  #000000;\n",
       "        }    #T_1bdeb56a_3e83_11eb_8a61_eee646394e7crow10_col3 {\n",
       "            background-color:  #cdd0e5;\n",
       "            color:  #000000;\n",
       "        }    #T_1bdeb56a_3e83_11eb_8a61_eee646394e7crow10_col4 {\n",
       "            background-color:  #b5c4df;\n",
       "            color:  #000000;\n",
       "        }    #T_1bdeb56a_3e83_11eb_8a61_eee646394e7crow10_col5 {\n",
       "            background-color:  #d6d6e9;\n",
       "            color:  #000000;\n",
       "        }    #T_1bdeb56a_3e83_11eb_8a61_eee646394e7crow10_col6 {\n",
       "            background-color:  #cccfe5;\n",
       "            color:  #000000;\n",
       "        }    #T_1bdeb56a_3e83_11eb_8a61_eee646394e7crow10_col7 {\n",
       "            background-color:  #d7d6e9;\n",
       "            color:  #000000;\n",
       "        }    #T_1bdeb56a_3e83_11eb_8a61_eee646394e7crow10_col8 {\n",
       "            background-color:  #e1dfed;\n",
       "            color:  #000000;\n",
       "        }    #T_1bdeb56a_3e83_11eb_8a61_eee646394e7crow10_col9 {\n",
       "            background-color:  #f7f0f7;\n",
       "            color:  #000000;\n",
       "        }    #T_1bdeb56a_3e83_11eb_8a61_eee646394e7crow10_col10 {\n",
       "            background-color:  #023858;\n",
       "            color:  #f1f1f1;\n",
       "        }</style><table id=\"T_1bdeb56a_3e83_11eb_8a61_eee646394e7c\" ><thead>    <tr>        <th class=\"blank level0\" ></th>        <th class=\"col_heading level0 col0\" >TARGET</th>        <th class=\"col_heading level0 col1\" >V1</th>        <th class=\"col_heading level0 col2\" >V2</th>        <th class=\"col_heading level0 col3\" >V3</th>        <th class=\"col_heading level0 col4\" >V4</th>        <th class=\"col_heading level0 col5\" >V5</th>        <th class=\"col_heading level0 col6\" >V6</th>        <th class=\"col_heading level0 col7\" >V7</th>        <th class=\"col_heading level0 col8\" >V8</th>        <th class=\"col_heading level0 col9\" >V9</th>        <th class=\"col_heading level0 col10\" >V10</th>    </tr></thead><tbody>\n",
       "                <tr>\n",
       "                        <th id=\"T_1bdeb56a_3e83_11eb_8a61_eee646394e7clevel0_row0\" class=\"row_heading level0 row0\" >TARGET</th>\n",
       "                        <td id=\"T_1bdeb56a_3e83_11eb_8a61_eee646394e7crow0_col0\" class=\"data row0 col0\" >1.0</td>\n",
       "                        <td id=\"T_1bdeb56a_3e83_11eb_8a61_eee646394e7crow0_col1\" class=\"data row0 col1\" >0.04</td>\n",
       "                        <td id=\"T_1bdeb56a_3e83_11eb_8a61_eee646394e7crow0_col2\" class=\"data row0 col2\" >0.06</td>\n",
       "                        <td id=\"T_1bdeb56a_3e83_11eb_8a61_eee646394e7crow0_col3\" class=\"data row0 col3\" >0.058</td>\n",
       "                        <td id=\"T_1bdeb56a_3e83_11eb_8a61_eee646394e7crow0_col4\" class=\"data row0 col4\" >-0.01</td>\n",
       "                        <td id=\"T_1bdeb56a_3e83_11eb_8a61_eee646394e7crow0_col5\" class=\"data row0 col5\" >0.28</td>\n",
       "                        <td id=\"T_1bdeb56a_3e83_11eb_8a61_eee646394e7crow0_col6\" class=\"data row0 col6\" >0.063</td>\n",
       "                        <td id=\"T_1bdeb56a_3e83_11eb_8a61_eee646394e7crow0_col7\" class=\"data row0 col7\" >0.043</td>\n",
       "                        <td id=\"T_1bdeb56a_3e83_11eb_8a61_eee646394e7crow0_col8\" class=\"data row0 col8\" >-0.056</td>\n",
       "                        <td id=\"T_1bdeb56a_3e83_11eb_8a61_eee646394e7crow0_col9\" class=\"data row0 col9\" >0.057</td>\n",
       "                        <td id=\"T_1bdeb56a_3e83_11eb_8a61_eee646394e7crow0_col10\" class=\"data row0 col10\" >0.052</td>\n",
       "            </tr>\n",
       "            <tr>\n",
       "                        <th id=\"T_1bdeb56a_3e83_11eb_8a61_eee646394e7clevel0_row1\" class=\"row_heading level0 row1\" >V1</th>\n",
       "                        <td id=\"T_1bdeb56a_3e83_11eb_8a61_eee646394e7crow1_col0\" class=\"data row1 col0\" >0.04</td>\n",
       "                        <td id=\"T_1bdeb56a_3e83_11eb_8a61_eee646394e7crow1_col1\" class=\"data row1 col1\" >1.0</td>\n",
       "                        <td id=\"T_1bdeb56a_3e83_11eb_8a61_eee646394e7crow1_col2\" class=\"data row1 col2\" >-0.13</td>\n",
       "                        <td id=\"T_1bdeb56a_3e83_11eb_8a61_eee646394e7crow1_col3\" class=\"data row1 col3\" >0.11</td>\n",
       "                        <td id=\"T_1bdeb56a_3e83_11eb_8a61_eee646394e7crow1_col4\" class=\"data row1 col4\" >0.012</td>\n",
       "                        <td id=\"T_1bdeb56a_3e83_11eb_8a61_eee646394e7crow1_col5\" class=\"data row1 col5\" >0.073</td>\n",
       "                        <td id=\"T_1bdeb56a_3e83_11eb_8a61_eee646394e7crow1_col6\" class=\"data row1 col6\" >0.052</td>\n",
       "                        <td id=\"T_1bdeb56a_3e83_11eb_8a61_eee646394e7crow1_col7\" class=\"data row1 col7\" >-0.023</td>\n",
       "                        <td id=\"T_1bdeb56a_3e83_11eb_8a61_eee646394e7crow1_col8\" class=\"data row1 col8\" >-0.14</td>\n",
       "                        <td id=\"T_1bdeb56a_3e83_11eb_8a61_eee646394e7crow1_col9\" class=\"data row1 col9\" >0.028</td>\n",
       "                        <td id=\"T_1bdeb56a_3e83_11eb_8a61_eee646394e7crow1_col10\" class=\"data row1 col10\" >0.0063</td>\n",
       "            </tr>\n",
       "            <tr>\n",
       "                        <th id=\"T_1bdeb56a_3e83_11eb_8a61_eee646394e7clevel0_row2\" class=\"row_heading level0 row2\" >V2</th>\n",
       "                        <td id=\"T_1bdeb56a_3e83_11eb_8a61_eee646394e7crow2_col0\" class=\"data row2 col0\" >0.06</td>\n",
       "                        <td id=\"T_1bdeb56a_3e83_11eb_8a61_eee646394e7crow2_col1\" class=\"data row2 col1\" >-0.13</td>\n",
       "                        <td id=\"T_1bdeb56a_3e83_11eb_8a61_eee646394e7crow2_col2\" class=\"data row2 col2\" >1.0</td>\n",
       "                        <td id=\"T_1bdeb56a_3e83_11eb_8a61_eee646394e7crow2_col3\" class=\"data row2 col3\" >0.29</td>\n",
       "                        <td id=\"T_1bdeb56a_3e83_11eb_8a61_eee646394e7crow2_col4\" class=\"data row2 col4\" >0.043</td>\n",
       "                        <td id=\"T_1bdeb56a_3e83_11eb_8a61_eee646394e7crow2_col5\" class=\"data row2 col5\" >0.013</td>\n",
       "                        <td id=\"T_1bdeb56a_3e83_11eb_8a61_eee646394e7crow2_col6\" class=\"data row2 col6\" >0.015</td>\n",
       "                        <td id=\"T_1bdeb56a_3e83_11eb_8a61_eee646394e7crow2_col7\" class=\"data row2 col7\" >0.49</td>\n",
       "                        <td id=\"T_1bdeb56a_3e83_11eb_8a61_eee646394e7crow2_col8\" class=\"data row2 col8\" >-0.12</td>\n",
       "                        <td id=\"T_1bdeb56a_3e83_11eb_8a61_eee646394e7crow2_col9\" class=\"data row2 col9\" >0.011</td>\n",
       "                        <td id=\"T_1bdeb56a_3e83_11eb_8a61_eee646394e7crow2_col10\" class=\"data row2 col10\" >0.051</td>\n",
       "            </tr>\n",
       "            <tr>\n",
       "                        <th id=\"T_1bdeb56a_3e83_11eb_8a61_eee646394e7clevel0_row3\" class=\"row_heading level0 row3\" >V3</th>\n",
       "                        <td id=\"T_1bdeb56a_3e83_11eb_8a61_eee646394e7crow3_col0\" class=\"data row3 col0\" >0.058</td>\n",
       "                        <td id=\"T_1bdeb56a_3e83_11eb_8a61_eee646394e7crow3_col1\" class=\"data row3 col1\" >0.11</td>\n",
       "                        <td id=\"T_1bdeb56a_3e83_11eb_8a61_eee646394e7crow3_col2\" class=\"data row3 col2\" >0.29</td>\n",
       "                        <td id=\"T_1bdeb56a_3e83_11eb_8a61_eee646394e7crow3_col3\" class=\"data row3 col3\" >1.0</td>\n",
       "                        <td id=\"T_1bdeb56a_3e83_11eb_8a61_eee646394e7crow3_col4\" class=\"data row3 col4\" >0.11</td>\n",
       "                        <td id=\"T_1bdeb56a_3e83_11eb_8a61_eee646394e7crow3_col5\" class=\"data row3 col5\" >0.071</td>\n",
       "                        <td id=\"T_1bdeb56a_3e83_11eb_8a61_eee646394e7crow3_col6\" class=\"data row3 col6\" >-0.033</td>\n",
       "                        <td id=\"T_1bdeb56a_3e83_11eb_8a61_eee646394e7crow3_col7\" class=\"data row3 col7\" >0.81</td>\n",
       "                        <td id=\"T_1bdeb56a_3e83_11eb_8a61_eee646394e7crow3_col8\" class=\"data row3 col8\" >-0.26</td>\n",
       "                        <td id=\"T_1bdeb56a_3e83_11eb_8a61_eee646394e7crow3_col9\" class=\"data row3 col9\" >0.023</td>\n",
       "                        <td id=\"T_1bdeb56a_3e83_11eb_8a61_eee646394e7crow3_col10\" class=\"data row3 col10\" >0.068</td>\n",
       "            </tr>\n",
       "            <tr>\n",
       "                        <th id=\"T_1bdeb56a_3e83_11eb_8a61_eee646394e7clevel0_row4\" class=\"row_heading level0 row4\" >V4</th>\n",
       "                        <td id=\"T_1bdeb56a_3e83_11eb_8a61_eee646394e7crow4_col0\" class=\"data row4 col0\" >-0.01</td>\n",
       "                        <td id=\"T_1bdeb56a_3e83_11eb_8a61_eee646394e7crow4_col1\" class=\"data row4 col1\" >0.012</td>\n",
       "                        <td id=\"T_1bdeb56a_3e83_11eb_8a61_eee646394e7crow4_col2\" class=\"data row4 col2\" >0.043</td>\n",
       "                        <td id=\"T_1bdeb56a_3e83_11eb_8a61_eee646394e7crow4_col3\" class=\"data row4 col3\" >0.11</td>\n",
       "                        <td id=\"T_1bdeb56a_3e83_11eb_8a61_eee646394e7crow4_col4\" class=\"data row4 col4\" >1.0</td>\n",
       "                        <td id=\"T_1bdeb56a_3e83_11eb_8a61_eee646394e7crow4_col5\" class=\"data row4 col5\" >0.011</td>\n",
       "                        <td id=\"T_1bdeb56a_3e83_11eb_8a61_eee646394e7crow4_col6\" class=\"data row4 col6\" >-0.37</td>\n",
       "                        <td id=\"T_1bdeb56a_3e83_11eb_8a61_eee646394e7crow4_col7\" class=\"data row4 col7\" >0.075</td>\n",
       "                        <td id=\"T_1bdeb56a_3e83_11eb_8a61_eee646394e7crow4_col8\" class=\"data row4 col8\" >-0.049</td>\n",
       "                        <td id=\"T_1bdeb56a_3e83_11eb_8a61_eee646394e7crow4_col9\" class=\"data row4 col9\" >0.021</td>\n",
       "                        <td id=\"T_1bdeb56a_3e83_11eb_8a61_eee646394e7crow4_col10\" class=\"data row4 col10\" >0.08</td>\n",
       "            </tr>\n",
       "            <tr>\n",
       "                        <th id=\"T_1bdeb56a_3e83_11eb_8a61_eee646394e7clevel0_row5\" class=\"row_heading level0 row5\" >V5</th>\n",
       "                        <td id=\"T_1bdeb56a_3e83_11eb_8a61_eee646394e7crow5_col0\" class=\"data row5 col0\" >0.28</td>\n",
       "                        <td id=\"T_1bdeb56a_3e83_11eb_8a61_eee646394e7crow5_col1\" class=\"data row5 col1\" >0.073</td>\n",
       "                        <td id=\"T_1bdeb56a_3e83_11eb_8a61_eee646394e7crow5_col2\" class=\"data row5 col2\" >0.013</td>\n",
       "                        <td id=\"T_1bdeb56a_3e83_11eb_8a61_eee646394e7crow5_col3\" class=\"data row5 col3\" >0.071</td>\n",
       "                        <td id=\"T_1bdeb56a_3e83_11eb_8a61_eee646394e7crow5_col4\" class=\"data row5 col4\" >0.011</td>\n",
       "                        <td id=\"T_1bdeb56a_3e83_11eb_8a61_eee646394e7crow5_col5\" class=\"data row5 col5\" >1.0</td>\n",
       "                        <td id=\"T_1bdeb56a_3e83_11eb_8a61_eee646394e7crow5_col6\" class=\"data row5 col6\" >0.042</td>\n",
       "                        <td id=\"T_1bdeb56a_3e83_11eb_8a61_eee646394e7crow5_col7\" class=\"data row5 col7\" >0.025</td>\n",
       "                        <td id=\"T_1bdeb56a_3e83_11eb_8a61_eee646394e7crow5_col8\" class=\"data row5 col8\" >-0.19</td>\n",
       "                        <td id=\"T_1bdeb56a_3e83_11eb_8a61_eee646394e7crow5_col9\" class=\"data row5 col9\" >0.034</td>\n",
       "                        <td id=\"T_1bdeb56a_3e83_11eb_8a61_eee646394e7crow5_col10\" class=\"data row5 col10\" >0.073</td>\n",
       "            </tr>\n",
       "            <tr>\n",
       "                        <th id=\"T_1bdeb56a_3e83_11eb_8a61_eee646394e7clevel0_row6\" class=\"row_heading level0 row6\" >V6</th>\n",
       "                        <td id=\"T_1bdeb56a_3e83_11eb_8a61_eee646394e7crow6_col0\" class=\"data row6 col0\" >0.063</td>\n",
       "                        <td id=\"T_1bdeb56a_3e83_11eb_8a61_eee646394e7crow6_col1\" class=\"data row6 col1\" >0.052</td>\n",
       "                        <td id=\"T_1bdeb56a_3e83_11eb_8a61_eee646394e7crow6_col2\" class=\"data row6 col2\" >0.015</td>\n",
       "                        <td id=\"T_1bdeb56a_3e83_11eb_8a61_eee646394e7crow6_col3\" class=\"data row6 col3\" >-0.033</td>\n",
       "                        <td id=\"T_1bdeb56a_3e83_11eb_8a61_eee646394e7crow6_col4\" class=\"data row6 col4\" >-0.37</td>\n",
       "                        <td id=\"T_1bdeb56a_3e83_11eb_8a61_eee646394e7crow6_col5\" class=\"data row6 col5\" >0.042</td>\n",
       "                        <td id=\"T_1bdeb56a_3e83_11eb_8a61_eee646394e7crow6_col6\" class=\"data row6 col6\" >1.0</td>\n",
       "                        <td id=\"T_1bdeb56a_3e83_11eb_8a61_eee646394e7crow6_col7\" class=\"data row6 col7\" >-0.018</td>\n",
       "                        <td id=\"T_1bdeb56a_3e83_11eb_8a61_eee646394e7crow6_col8\" class=\"data row6 col8\" >0.019</td>\n",
       "                        <td id=\"T_1bdeb56a_3e83_11eb_8a61_eee646394e7crow6_col9\" class=\"data row6 col9\" >-0.0023</td>\n",
       "                        <td id=\"T_1bdeb56a_3e83_11eb_8a61_eee646394e7crow6_col10\" class=\"data row6 col10\" >-0.013</td>\n",
       "            </tr>\n",
       "            <tr>\n",
       "                        <th id=\"T_1bdeb56a_3e83_11eb_8a61_eee646394e7clevel0_row7\" class=\"row_heading level0 row7\" >V7</th>\n",
       "                        <td id=\"T_1bdeb56a_3e83_11eb_8a61_eee646394e7crow7_col0\" class=\"data row7 col0\" >0.043</td>\n",
       "                        <td id=\"T_1bdeb56a_3e83_11eb_8a61_eee646394e7crow7_col1\" class=\"data row7 col1\" >-0.023</td>\n",
       "                        <td id=\"T_1bdeb56a_3e83_11eb_8a61_eee646394e7crow7_col2\" class=\"data row7 col2\" >0.49</td>\n",
       "                        <td id=\"T_1bdeb56a_3e83_11eb_8a61_eee646394e7crow7_col3\" class=\"data row7 col3\" >0.81</td>\n",
       "                        <td id=\"T_1bdeb56a_3e83_11eb_8a61_eee646394e7crow7_col4\" class=\"data row7 col4\" >0.075</td>\n",
       "                        <td id=\"T_1bdeb56a_3e83_11eb_8a61_eee646394e7crow7_col5\" class=\"data row7 col5\" >0.025</td>\n",
       "                        <td id=\"T_1bdeb56a_3e83_11eb_8a61_eee646394e7crow7_col6\" class=\"data row7 col6\" >-0.018</td>\n",
       "                        <td id=\"T_1bdeb56a_3e83_11eb_8a61_eee646394e7crow7_col7\" class=\"data row7 col7\" >1.0</td>\n",
       "                        <td id=\"T_1bdeb56a_3e83_11eb_8a61_eee646394e7crow7_col8\" class=\"data row7 col8\" >-0.18</td>\n",
       "                        <td id=\"T_1bdeb56a_3e83_11eb_8a61_eee646394e7crow7_col9\" class=\"data row7 col9\" >0.022</td>\n",
       "                        <td id=\"T_1bdeb56a_3e83_11eb_8a61_eee646394e7crow7_col10\" class=\"data row7 col10\" >0.08</td>\n",
       "            </tr>\n",
       "            <tr>\n",
       "                        <th id=\"T_1bdeb56a_3e83_11eb_8a61_eee646394e7clevel0_row8\" class=\"row_heading level0 row8\" >V8</th>\n",
       "                        <td id=\"T_1bdeb56a_3e83_11eb_8a61_eee646394e7crow8_col0\" class=\"data row8 col0\" >-0.056</td>\n",
       "                        <td id=\"T_1bdeb56a_3e83_11eb_8a61_eee646394e7crow8_col1\" class=\"data row8 col1\" >-0.14</td>\n",
       "                        <td id=\"T_1bdeb56a_3e83_11eb_8a61_eee646394e7crow8_col2\" class=\"data row8 col2\" >-0.12</td>\n",
       "                        <td id=\"T_1bdeb56a_3e83_11eb_8a61_eee646394e7crow8_col3\" class=\"data row8 col3\" >-0.26</td>\n",
       "                        <td id=\"T_1bdeb56a_3e83_11eb_8a61_eee646394e7crow8_col4\" class=\"data row8 col4\" >-0.049</td>\n",
       "                        <td id=\"T_1bdeb56a_3e83_11eb_8a61_eee646394e7crow8_col5\" class=\"data row8 col5\" >-0.19</td>\n",
       "                        <td id=\"T_1bdeb56a_3e83_11eb_8a61_eee646394e7crow8_col6\" class=\"data row8 col6\" >0.019</td>\n",
       "                        <td id=\"T_1bdeb56a_3e83_11eb_8a61_eee646394e7crow8_col7\" class=\"data row8 col7\" >-0.18</td>\n",
       "                        <td id=\"T_1bdeb56a_3e83_11eb_8a61_eee646394e7crow8_col8\" class=\"data row8 col8\" >1.0</td>\n",
       "                        <td id=\"T_1bdeb56a_3e83_11eb_8a61_eee646394e7crow8_col9\" class=\"data row8 col9\" >-0.039</td>\n",
       "                        <td id=\"T_1bdeb56a_3e83_11eb_8a61_eee646394e7crow8_col10\" class=\"data row8 col10\" >-0.039</td>\n",
       "            </tr>\n",
       "            <tr>\n",
       "                        <th id=\"T_1bdeb56a_3e83_11eb_8a61_eee646394e7clevel0_row9\" class=\"row_heading level0 row9\" >V9</th>\n",
       "                        <td id=\"T_1bdeb56a_3e83_11eb_8a61_eee646394e7crow9_col0\" class=\"data row9 col0\" >0.057</td>\n",
       "                        <td id=\"T_1bdeb56a_3e83_11eb_8a61_eee646394e7crow9_col1\" class=\"data row9 col1\" >0.028</td>\n",
       "                        <td id=\"T_1bdeb56a_3e83_11eb_8a61_eee646394e7crow9_col2\" class=\"data row9 col2\" >0.011</td>\n",
       "                        <td id=\"T_1bdeb56a_3e83_11eb_8a61_eee646394e7crow9_col3\" class=\"data row9 col3\" >0.023</td>\n",
       "                        <td id=\"T_1bdeb56a_3e83_11eb_8a61_eee646394e7crow9_col4\" class=\"data row9 col4\" >0.021</td>\n",
       "                        <td id=\"T_1bdeb56a_3e83_11eb_8a61_eee646394e7crow9_col5\" class=\"data row9 col5\" >0.034</td>\n",
       "                        <td id=\"T_1bdeb56a_3e83_11eb_8a61_eee646394e7crow9_col6\" class=\"data row9 col6\" >-0.0023</td>\n",
       "                        <td id=\"T_1bdeb56a_3e83_11eb_8a61_eee646394e7crow9_col7\" class=\"data row9 col7\" >0.022</td>\n",
       "                        <td id=\"T_1bdeb56a_3e83_11eb_8a61_eee646394e7crow9_col8\" class=\"data row9 col8\" >-0.039</td>\n",
       "                        <td id=\"T_1bdeb56a_3e83_11eb_8a61_eee646394e7crow9_col9\" class=\"data row9 col9\" >1.0</td>\n",
       "                        <td id=\"T_1bdeb56a_3e83_11eb_8a61_eee646394e7crow9_col10\" class=\"data row9 col10\" >0.018</td>\n",
       "            </tr>\n",
       "            <tr>\n",
       "                        <th id=\"T_1bdeb56a_3e83_11eb_8a61_eee646394e7clevel0_row10\" class=\"row_heading level0 row10\" >V10</th>\n",
       "                        <td id=\"T_1bdeb56a_3e83_11eb_8a61_eee646394e7crow10_col0\" class=\"data row10 col0\" >0.052</td>\n",
       "                        <td id=\"T_1bdeb56a_3e83_11eb_8a61_eee646394e7crow10_col1\" class=\"data row10 col1\" >0.0063</td>\n",
       "                        <td id=\"T_1bdeb56a_3e83_11eb_8a61_eee646394e7crow10_col2\" class=\"data row10 col2\" >0.051</td>\n",
       "                        <td id=\"T_1bdeb56a_3e83_11eb_8a61_eee646394e7crow10_col3\" class=\"data row10 col3\" >0.068</td>\n",
       "                        <td id=\"T_1bdeb56a_3e83_11eb_8a61_eee646394e7crow10_col4\" class=\"data row10 col4\" >0.08</td>\n",
       "                        <td id=\"T_1bdeb56a_3e83_11eb_8a61_eee646394e7crow10_col5\" class=\"data row10 col5\" >0.073</td>\n",
       "                        <td id=\"T_1bdeb56a_3e83_11eb_8a61_eee646394e7crow10_col6\" class=\"data row10 col6\" >-0.013</td>\n",
       "                        <td id=\"T_1bdeb56a_3e83_11eb_8a61_eee646394e7crow10_col7\" class=\"data row10 col7\" >0.08</td>\n",
       "                        <td id=\"T_1bdeb56a_3e83_11eb_8a61_eee646394e7crow10_col8\" class=\"data row10 col8\" >-0.039</td>\n",
       "                        <td id=\"T_1bdeb56a_3e83_11eb_8a61_eee646394e7crow10_col9\" class=\"data row10 col9\" >0.018</td>\n",
       "                        <td id=\"T_1bdeb56a_3e83_11eb_8a61_eee646394e7crow10_col10\" class=\"data row10 col10\" >1.0</td>\n",
       "            </tr>\n",
       "    </tbody></table>"
      ],
      "text/plain": [
       "<pandas.io.formats.style.Styler at 0x7fe203f79908>"
      ]
     },
     "execution_count": 32,
     "metadata": {},
     "output_type": "execute_result"
    }
   ],
   "source": [
    "df_v_target.corr().style.format(\"{:.2}\").background_gradient()"
   ]
  },
  {
   "cell_type": "code",
   "execution_count": null,
   "metadata": {},
   "outputs": [],
   "source": []
  },
  {
   "cell_type": "markdown",
   "metadata": {},
   "source": [
    "Como esperado não há nenhuma variavel com correlação com a variavel target."
   ]
  },
  {
   "cell_type": "code",
   "execution_count": 33,
   "metadata": {},
   "outputs": [],
   "source": [
    "df_v_target = df_v_target.loc[(df_v_target[\"TARGET\"] == 1)]"
   ]
  },
  {
   "cell_type": "code",
   "execution_count": 34,
   "metadata": {},
   "outputs": [],
   "source": [
    "df_v_target = df_v_target.drop(columns=['TARGET'])"
   ]
  },
  {
   "cell_type": "code",
   "execution_count": 35,
   "metadata": {},
   "outputs": [
    {
     "data": {
      "text/html": [
       "<div>\n",
       "<style scoped>\n",
       "    .dataframe tbody tr th:only-of-type {\n",
       "        vertical-align: middle;\n",
       "    }\n",
       "\n",
       "    .dataframe tbody tr th {\n",
       "        vertical-align: top;\n",
       "    }\n",
       "\n",
       "    .dataframe thead th {\n",
       "        text-align: right;\n",
       "    }\n",
       "</style>\n",
       "<table border=\"1\" class=\"dataframe\">\n",
       "  <thead>\n",
       "    <tr style=\"text-align: right;\">\n",
       "      <th></th>\n",
       "      <th>V1</th>\n",
       "      <th>V2</th>\n",
       "      <th>V3</th>\n",
       "      <th>V4</th>\n",
       "      <th>V5</th>\n",
       "      <th>V6</th>\n",
       "      <th>V7</th>\n",
       "      <th>V8</th>\n",
       "      <th>V9</th>\n",
       "      <th>V10</th>\n",
       "    </tr>\n",
       "  </thead>\n",
       "  <tbody>\n",
       "    <tr>\n",
       "      <th>102</th>\n",
       "      <td>1</td>\n",
       "      <td>10.0</td>\n",
       "      <td>3005.00</td>\n",
       "      <td>2085</td>\n",
       "      <td>0</td>\n",
       "      <td>0</td>\n",
       "      <td>14760.19</td>\n",
       "      <td>0</td>\n",
       "      <td>0</td>\n",
       "      <td>0</td>\n",
       "    </tr>\n",
       "    <tr>\n",
       "      <th>103</th>\n",
       "      <td>0</td>\n",
       "      <td>100.0</td>\n",
       "      <td>1520.00</td>\n",
       "      <td>0</td>\n",
       "      <td>2</td>\n",
       "      <td>1</td>\n",
       "      <td>32898.97</td>\n",
       "      <td>0</td>\n",
       "      <td>0</td>\n",
       "      <td>0</td>\n",
       "    </tr>\n",
       "    <tr>\n",
       "      <th>115</th>\n",
       "      <td>0</td>\n",
       "      <td>91.5</td>\n",
       "      <td>90.00</td>\n",
       "      <td>2226</td>\n",
       "      <td>2</td>\n",
       "      <td>0</td>\n",
       "      <td>1068.19</td>\n",
       "      <td>0</td>\n",
       "      <td>0</td>\n",
       "      <td>0</td>\n",
       "    </tr>\n",
       "    <tr>\n",
       "      <th>400</th>\n",
       "      <td>0</td>\n",
       "      <td>100.0</td>\n",
       "      <td>952.99</td>\n",
       "      <td>0</td>\n",
       "      <td>0</td>\n",
       "      <td>1</td>\n",
       "      <td>18787.80</td>\n",
       "      <td>0</td>\n",
       "      <td>0</td>\n",
       "      <td>0</td>\n",
       "    </tr>\n",
       "    <tr>\n",
       "      <th>505</th>\n",
       "      <td>0</td>\n",
       "      <td>8.8</td>\n",
       "      <td>2998.00</td>\n",
       "      <td>2193</td>\n",
       "      <td>9</td>\n",
       "      <td>0</td>\n",
       "      <td>14408.74</td>\n",
       "      <td>0</td>\n",
       "      <td>0</td>\n",
       "      <td>0</td>\n",
       "    </tr>\n",
       "    <tr>\n",
       "      <th>...</th>\n",
       "      <td>...</td>\n",
       "      <td>...</td>\n",
       "      <td>...</td>\n",
       "      <td>...</td>\n",
       "      <td>...</td>\n",
       "      <td>...</td>\n",
       "      <td>...</td>\n",
       "      <td>...</td>\n",
       "      <td>...</td>\n",
       "      <td>...</td>\n",
       "    </tr>\n",
       "    <tr>\n",
       "      <th>10890</th>\n",
       "      <td>0</td>\n",
       "      <td>12.6</td>\n",
       "      <td>13.92</td>\n",
       "      <td>0</td>\n",
       "      <td>1</td>\n",
       "      <td>1</td>\n",
       "      <td>24.45</td>\n",
       "      <td>0</td>\n",
       "      <td>0</td>\n",
       "      <td>0</td>\n",
       "    </tr>\n",
       "    <tr>\n",
       "      <th>11002</th>\n",
       "      <td>1</td>\n",
       "      <td>10.0</td>\n",
       "      <td>1264.99</td>\n",
       "      <td>0</td>\n",
       "      <td>2</td>\n",
       "      <td>1</td>\n",
       "      <td>5226.17</td>\n",
       "      <td>0</td>\n",
       "      <td>0</td>\n",
       "      <td>0</td>\n",
       "    </tr>\n",
       "    <tr>\n",
       "      <th>11100</th>\n",
       "      <td>0</td>\n",
       "      <td>100.0</td>\n",
       "      <td>155.00</td>\n",
       "      <td>563</td>\n",
       "      <td>1</td>\n",
       "      <td>0</td>\n",
       "      <td>2125.04</td>\n",
       "      <td>0</td>\n",
       "      <td>0</td>\n",
       "      <td>0</td>\n",
       "    </tr>\n",
       "    <tr>\n",
       "      <th>11135</th>\n",
       "      <td>0</td>\n",
       "      <td>0.4</td>\n",
       "      <td>244.11</td>\n",
       "      <td>1958</td>\n",
       "      <td>3</td>\n",
       "      <td>0</td>\n",
       "      <td>614.92</td>\n",
       "      <td>0</td>\n",
       "      <td>0</td>\n",
       "      <td>0</td>\n",
       "    </tr>\n",
       "    <tr>\n",
       "      <th>11160</th>\n",
       "      <td>0</td>\n",
       "      <td>95.0</td>\n",
       "      <td>900.89</td>\n",
       "      <td>0</td>\n",
       "      <td>0</td>\n",
       "      <td>1</td>\n",
       "      <td>17345.27</td>\n",
       "      <td>1</td>\n",
       "      <td>0</td>\n",
       "      <td>0</td>\n",
       "    </tr>\n",
       "  </tbody>\n",
       "</table>\n",
       "<p>120 rows × 10 columns</p>\n",
       "</div>"
      ],
      "text/plain": [
       "       V1     V2       V3    V4  V5  V6        V7  V8  V9  V10\n",
       "102     1   10.0  3005.00  2085   0   0  14760.19   0   0    0\n",
       "103     0  100.0  1520.00     0   2   1  32898.97   0   0    0\n",
       "115     0   91.5    90.00  2226   2   0   1068.19   0   0    0\n",
       "400     0  100.0   952.99     0   0   1  18787.80   0   0    0\n",
       "505     0    8.8  2998.00  2193   9   0  14408.74   0   0    0\n",
       "...    ..    ...      ...   ...  ..  ..       ...  ..  ..  ...\n",
       "10890   0   12.6    13.92     0   1   1     24.45   0   0    0\n",
       "11002   1   10.0  1264.99     0   2   1   5226.17   0   0    0\n",
       "11100   0  100.0   155.00   563   1   0   2125.04   0   0    0\n",
       "11135   0    0.4   244.11  1958   3   0    614.92   0   0    0\n",
       "11160   0   95.0   900.89     0   0   1  17345.27   1   0    0\n",
       "\n",
       "[120 rows x 10 columns]"
      ]
     },
     "execution_count": 35,
     "metadata": {},
     "output_type": "execute_result"
    }
   ],
   "source": [
    "df_v_target"
   ]
  },
  {
   "cell_type": "code",
   "execution_count": 36,
   "metadata": {},
   "outputs": [
    {
     "name": "stdout",
     "output_type": "stream",
     "text": [
      "------------------------------\n",
      "DATASET'S DESCRIPTIVE STATISTICS WHEN TARGET = 1: \n",
      "\n",
      "               V1          V2           V3            V4          V5  \\\n",
      "count  120.000000  120.000000   120.000000    120.000000  120.000000   \n",
      "mean     0.225000   34.290833  1032.153167   1223.258333    1.933333   \n",
      "std      0.419333   36.252643  1269.059984   1917.909469    2.643315   \n",
      "min      0.000000    0.000000     6.250000      0.000000    0.000000   \n",
      "25%      0.000000    8.950000   181.247500      0.000000    0.000000   \n",
      "50%      0.000000   10.000000   505.000000   1069.500000    1.000000   \n",
      "75%      0.000000   66.850000  1038.937500   1929.500000    3.000000   \n",
      "max      1.000000  100.000000  5007.000000  12967.000000   11.000000   \n",
      "\n",
      "               V6             V7          V8          V9         V10  \n",
      "count  120.000000     120.000000  120.000000  120.000000  120.000000  \n",
      "mean     0.408333    9065.989167    0.133333    0.058333    0.116667  \n",
      "std      0.493586   16550.588803    0.341360    0.235355    0.322369  \n",
      "min      0.000000       7.560000    0.000000    0.000000    0.000000  \n",
      "25%      0.000000     636.490000    0.000000    0.000000    0.000000  \n",
      "50%      0.000000    3214.945000    0.000000    0.000000    0.000000  \n",
      "75%      1.000000   13146.530000    0.000000    0.000000    0.000000  \n",
      "max      1.000000  114814.190000    1.000000    1.000000    1.000000  \n",
      "\n",
      "\n"
     ]
    }
   ],
   "source": [
    "print('-'*30)\n",
    "print(\"DATASET'S DESCRIPTIVE STATISTICS WHEN TARGET = 1: \\n\\n{}\\n\\n\".format(df_v_target.describe(include='all')))"
   ]
  },
  {
   "cell_type": "code",
   "execution_count": 37,
   "metadata": {},
   "outputs": [
    {
     "data": {
      "text/plain": [
       "Text(0.5, 1.0, 'Boxplot V2')"
      ]
     },
     "execution_count": 37,
     "metadata": {},
     "output_type": "execute_result"
    },
    {
     "data": {
      "image/png": "[encoded data removed]",
      "text/plain": [
       "<Figure size 432x288 with 1 Axes>"
      ]
     },
     "metadata": {
      "needs_background": "light"
     },
     "output_type": "display_data"
    }
   ],
   "source": [
    "plt.boxplot(x=df_v_target['V2'])\n",
    "plt.title('Boxplot V2')"
   ]
  },
  {
   "cell_type": "code",
   "execution_count": 38,
   "metadata": {},
   "outputs": [
    {
     "data": {
      "text/plain": [
       "Text(0.5, 1.0, 'Boxplot V3')"
      ]
     },
     "execution_count": 38,
     "metadata": {},
     "output_type": "execute_result"
    },
    {
     "data": {
      "image/png": "[encoded data removed]",
      "text/plain": [
       "<Figure size 432x288 with 1 Axes>"
      ]
     },
     "metadata": {
      "needs_background": "light"
     },
     "output_type": "display_data"
    }
   ],
   "source": [
    "plt.boxplot(x=df_v_target['V3'])\n",
    "plt.title('Boxplot V3')"
   ]
  },
  {
   "cell_type": "code",
   "execution_count": 39,
   "metadata": {},
   "outputs": [
    {
     "data": {
      "text/plain": [
       "Text(0.5, 1.0, 'Boxplot V4')"
      ]
     },
     "execution_count": 39,
     "metadata": {},
     "output_type": "execute_result"
    },
    {
     "data": {
      "image/png": "[encoded data removed]",
      "text/plain": [
       "<Figure size 432x288 with 1 Axes>"
      ]
     },
     "metadata": {
      "needs_background": "light"
     },
     "output_type": "display_data"
    }
   ],
   "source": [
    "plt.boxplot(x=df_v_target['V4'])\n",
    "plt.title('Boxplot V4')"
   ]
  },
  {
   "cell_type": "code",
   "execution_count": 40,
   "metadata": {},
   "outputs": [
    {
     "data": {
      "text/plain": [
       "Text(0.5, 1.0, 'Boxplot V5')"
      ]
     },
     "execution_count": 40,
     "metadata": {},
     "output_type": "execute_result"
    },
    {
     "data": {
      "image/png": "[encoded data removed]",
      "text/plain": [
       "<Figure size 432x288 with 1 Axes>"
      ]
     },
     "metadata": {
      "needs_background": "light"
     },
     "output_type": "display_data"
    }
   ],
   "source": [
    "plt.boxplot(x=df_v_target['V5'])\n",
    "plt.title('Boxplot V5')"
   ]
  },
  {
   "cell_type": "code",
   "execution_count": 41,
   "metadata": {},
   "outputs": [
    {
     "data": {
      "text/plain": [
       "Text(0.5, 1.0, 'Boxplot V7')"
      ]
     },
     "execution_count": 41,
     "metadata": {},
     "output_type": "execute_result"
    },
    {
     "data": {
      "image/png": "[encoded data removed]",
      "text/plain": [
       "<Figure size 432x288 with 1 Axes>"
      ]
     },
     "metadata": {
      "needs_background": "light"
     },
     "output_type": "display_data"
    }
   ],
   "source": [
    "plt.boxplot(x=df_v_target['V7'])\n",
    "plt.title('Boxplot V7')"
   ]
  },
  {
   "cell_type": "code",
   "execution_count": 42,
   "metadata": {},
   "outputs": [],
   "source": [
    "df_v_target_o = df_v_target[[\"V2\",\"V3\",\"V4\",\"V5\",\"V7\"]]"
   ]
  },
  {
   "cell_type": "code",
   "execution_count": 43,
   "metadata": {},
   "outputs": [],
   "source": [
    "z = np.abs(stats.zscore(df_v_target_o))"
   ]
  },
  {
   "cell_type": "code",
   "execution_count": 44,
   "metadata": {},
   "outputs": [],
   "source": [
    "df_v_target_z = pd.DataFrame(np.where(z > 3))"
   ]
  },
  {
   "cell_type": "code",
   "execution_count": 45,
   "metadata": {},
   "outputs": [],
   "source": [
    "df_v_target_z_t = df_v_target_z.transpose()"
   ]
  },
  {
   "cell_type": "code",
   "execution_count": 46,
   "metadata": {},
   "outputs": [
    {
     "name": "stdout",
     "output_type": "stream",
     "text": [
      "Amount of outlier in V2: 0\n",
      "Amount of outlier in V3: 4\n",
      "Amount of outlier in V4: 3\n",
      "Amount of outlier in V5: 4\n",
      "Amount of outlier in V7: 4\n"
     ]
    }
   ],
   "source": [
    "a = df_v_target_z_t.loc[(df_v_target_z_t[1] == 0)].count()\n",
    "print('Amount of outlier in V2:',a[0])\n",
    "a = df_v_target_z_t.loc[(df_v_target_z_t[1] == 1)].count()\n",
    "print('Amount of outlier in V3:',a[0])\n",
    "a = df_v_target_z_t.loc[(df_v_target_z_t[1] == 2)].count()\n",
    "print('Amount of outlier in V4:',a[0])\n",
    "a = df_v_target_z_t.loc[(df_v_target_z_t[1] == 3)].count()\n",
    "print('Amount of outlier in V5:',a[0])\n",
    "a = df_v_target_z_t.loc[(df_v_target_z_t[1] == 4)].count()\n",
    "print('Amount of outlier in V7:',a[0])"
   ]
  },
  {
   "cell_type": "markdown",
   "metadata": {},
   "source": [
    "Como esperado analisando as variaveis quando analisado o data set somente dos valores possitivos identificamos que as variaveis tiveram variação na media, e na distribuição.\n",
    "\n",
    "Foi identificado redução significativa do numero de outlier, o que indica que a relação outlier com target não é  destacada\n",
    "\n",
    "porem se optar por manter as linhas com outlier uma vez que elas represetam 12,5% do dataset das variaveis targets. Numero  \n",
    "expressivo de target para ser descartado."
   ]
  },
  {
   "cell_type": "markdown",
   "metadata": {},
   "source": [
    "# Modelagem"
   ]
  },
  {
   "cell_type": "markdown",
   "metadata": {},
   "source": [
    "Devido a falta de contextualização do problema não será aplicado tecnicas combinação de variaveis pois existe a possibilidade\n",
    "de combinação e ma interpretação de variaveis\n",
    "\n",
    "\n",
    "\n",
    "Por falta de decisão de negocio de qual deve ser a metrica de sucesso será utilizado a metrica de F1 score com a formula \n",
    "2TP / (2TP + FP + FN) \n",
    "\n",
    "onde:\n",
    "TP = True positive\n",
    "TN = True negative\n",
    "FP = False positive\n",
    "FN = False negative\n",
    "\n",
    "outras metricas serão geradas para efeito de comparação\n",
    "\n",
    " Precision = TP / (TP + FP)  \n",
    " Recall = TP / (TP + FN)  \n",
    " Accuracy = (TP + TN) / (TP + TN + FP + FN)  \n",
    "\n",
    "\n",
    "Tecnicas a serem usadas\n",
    "Logistic Regression\n",
    "Neural Networks\n",
    "Random florest"
   ]
  },
  {
   "cell_type": "markdown",
   "metadata": {},
   "source": []
  },
  {
   "cell_type": "markdown",
   "metadata": {},
   "source": []
  },
  {
   "cell_type": "markdown",
   "metadata": {},
   "source": []
  },
  {
   "cell_type": "markdown",
   "metadata": {},
   "source": []
  },
  {
   "cell_type": "markdown",
   "metadata": {},
   "source": [
    "# Logistica regression"
   ]
  },
  {
   "cell_type": "markdown",
   "metadata": {},
   "source": []
  },
  {
   "cell_type": "markdown",
   "metadata": {},
   "source": [
    "O data set será separando em 3 grupos treino, validação e teste.\n",
    "Time for Train-Test-Split\n",
    "60% Training\n",
    "20% Validation\n",
    "20% Test"
   ]
  },
  {
   "cell_type": "markdown",
   "metadata": {},
   "source": [
    "Como forma de balanceamento seráStandardScaler - Undersampling"
   ]
  },
  {
   "cell_type": "markdown",
   "metadata": {},
   "source": [
    "Notes on using StandardScaler\n",
    "StandardScaler : It transforms the data in such a manner that it has mean as 0 and standard deviation as 1. In short, it standardizes the data. Standardization is useful for data which has negative values. It arranges the data in normal distribution. It is more useful in classification than regression. You can read this blog of mine.\n",
    "\n",
    "StandardScaler standardizes a feature by subtracting the mean and then scaling to unit variance. Unit variance means dividing all the values by the standard deviation.\n",
    "\n",
    "Normalizer : It squeezes the data between 0 and 1. It performs normalization. Due to the decreased range and magnitude, the gradients in the training process do not explode and you do not get higher values of loss. Is more useful in regression than classification. You can read this blog of mine."
   ]
  },
  {
   "cell_type": "markdown",
   "metadata": {},
   "source": [
    "Another issue to address is the highly imbalanced dataset. With so many non-fraudulent transactions in place, I implemented Random Undersampling to decrease the number of non-fraudulent transactions and match it to the amount of fraudulent transactions.\n",
    "With this set up, I’m now ready to run the data through some models!"
   ]
  },
  {
   "cell_type": "markdown",
   "metadata": {},
   "source": [
    "StandardScaler - Undersampling"
   ]
  },
  {
   "cell_type": "markdown",
   "metadata": {},
   "source": [
    "Recall (True Positive Rate): % of all fraudulent transactions cases captured\n",
    "Precision: Out of all items labeled as fraud, what percentage of them is actually fraud?\n",
    "False Positive Rate:\n",
    "\n",
    "Accuracy: How correct the model is (misleading for fraud/imbalanced data)\n",
    "\n",
    "F1 score: combination of recall and precision into one metric. F1 score is the weighted average of precision and recall, taking BOTH false positives and false negatives into account. Usually much more useful than accuracy, especially with uneven classes."
   ]
  },
  {
   "cell_type": "code",
   "execution_count": 47,
   "metadata": {},
   "outputs": [],
   "source": [
    "df_target = df['TARGET']"
   ]
  },
  {
   "cell_type": "code",
   "execution_count": 48,
   "metadata": {},
   "outputs": [],
   "source": [
    "X_break, X_test, y_break, y_test = train_test_split(df_v, df_target, \\\n",
    "                                                    test_size=0.2, stratify=df['TARGET'],\n",
    "                                                    random_state=42)\n",
    "\n",
    "#random_state generates a set kind of deck for each random state. 42 will always be the same kind of split\n",
    "X_train, X_val, y_train, y_val = train_test_split(X_break, y_break, \\\n",
    "                                                    test_size=0.25, stratify=y_break,\n",
    "                                                    random_state=42)\n",
    "# Initialize fit StandardScaler\n",
    "std_scale = StandardScaler().fit(X_train)\n",
    "\n",
    "# Scale data\n",
    "X_train_std = std_scale.transform(X_train)\n",
    "X_val_std = std_scale.transform(X_val)\n",
    "X_test_std = std_scale.transform(X_test)"
   ]
  },
  {
   "cell_type": "code",
   "execution_count": 49,
   "metadata": {},
   "outputs": [],
   "source": [
    "X_train_under, y_train_under = RandomUnderSampler(random_state=42).fit_sample(X_train_std,y_train)\n",
    "X_val_under, y_val_under = RandomUnderSampler(random_state=42).fit_sample(X_val_std,y_val)"
   ]
  },
  {
   "cell_type": "code",
   "execution_count": 50,
   "metadata": {},
   "outputs": [],
   "source": [
    "penalty = ['l2']\n",
    "C = np.logspace(0, 4, 10, 100, 1000)\n",
    "param_grid = dict(C=C, penalty=penalty)\n",
    "logistic = linear_model.LogisticRegression(solver='lbfgs', max_iter=10000)"
   ]
  },
  {
   "cell_type": "code",
   "execution_count": 51,
   "metadata": {},
   "outputs": [],
   "source": [
    "logistic_grid = GridSearchCV(logistic, param_grid, cv=5, scoring='accuracy', verbose=10, n_jobs=-1)"
   ]
  },
  {
   "cell_type": "code",
   "execution_count": 52,
   "metadata": {},
   "outputs": [],
   "source": [
    "%%capture\n",
    "logistic_grid.fit(X_train_under, y_train_under)"
   ]
  },
  {
   "cell_type": "code",
   "execution_count": 53,
   "metadata": {},
   "outputs": [
    {
     "data": {
      "image/png": "[encoded data removed]",
      "text/plain": [
       "<Figure size 432x288 with 1 Axes>"
      ]
     },
     "metadata": {
      "needs_background": "light"
     },
     "output_type": "display_data"
    }
   ],
   "source": [
    "y_pred = list(logistic_grid.predict_proba(X_val_under)[:,1])\n",
    "fpr, tpr, threshold = metrics.roc_curve(y_val_under, y_pred)\n",
    "roc_auc = metrics.auc(fpr, tpr)\n",
    "plt.plot(fpr, tpr, label = ('logistic AUC = %0.4f' % roc_auc),linewidth=2.0)\n",
    "leg = plt.legend(loc = 'lower right',prop={'size': 15})\n",
    "plt.title('ROC')\n",
    "plt.ylabel('True Positive rate')\n",
    "plt.xlabel('False Positive rate');\n",
    "plt.show()"
   ]
  },
  {
   "cell_type": "code",
   "execution_count": 54,
   "metadata": {},
   "outputs": [],
   "source": [
    "def find_best_threshold(model, int_num_steps):\n",
    "    highest_f1 = 0\n",
    "    best_threshold = 0\n",
    "    for threshold in np.linspace (0, 1, int_num_steps):\n",
    "        y_predict = (model.predict_proba(X_val_under)[:, 1] >= threshold) \n",
    "        f1 = f1_score(y_val_under,y_predict)\n",
    "        acc = accuracy_score(y_val_under,y_predict)\n",
    "        rec = recall_score(y_val_under,y_predict)\n",
    "        pre = precision_score(y_val_under,y_predict)\n",
    "        if f1 > highest_f1:\n",
    "            best_threshold, highest_f1, best_acc, best_rec, best_pre  = threshold, f1, acc, rec, pre\n",
    "    return best_threshold, highest_f1, best_acc, best_rec, best_pre"
   ]
  },
  {
   "cell_type": "code",
   "execution_count": 55,
   "metadata": {},
   "outputs": [],
   "source": [
    "chart = list()"
   ]
  },
  {
   "cell_type": "code",
   "execution_count": 56,
   "metadata": {},
   "outputs": [],
   "source": [
    "%%capture\n",
    "best_thresh, high_f1, high_acc, high_rec, high_pre = find_best_threshold(logistic_grid,50)\n",
    "chart.append([\"logistic\", best_thresh, high_f1, high_acc, high_rec, high_pre])"
   ]
  },
  {
   "cell_type": "code",
   "execution_count": 57,
   "metadata": {},
   "outputs": [],
   "source": [
    "chart = pd.DataFrame(chart, columns=['Model', 'Best Threshhold','F1 Score','Accuracy','Recall','Precision'])"
   ]
  },
  {
   "cell_type": "code",
   "execution_count": 58,
   "metadata": {},
   "outputs": [
    {
     "data": {
      "text/html": [
       "<div>\n",
       "<style scoped>\n",
       "    .dataframe tbody tr th:only-of-type {\n",
       "        vertical-align: middle;\n",
       "    }\n",
       "\n",
       "    .dataframe tbody tr th {\n",
       "        vertical-align: top;\n",
       "    }\n",
       "\n",
       "    .dataframe thead th {\n",
       "        text-align: right;\n",
       "    }\n",
       "</style>\n",
       "<table border=\"1\" class=\"dataframe\">\n",
       "  <thead>\n",
       "    <tr style=\"text-align: right;\">\n",
       "      <th></th>\n",
       "      <th>Model</th>\n",
       "      <th>Best Threshhold</th>\n",
       "      <th>F1 Score</th>\n",
       "      <th>Accuracy</th>\n",
       "      <th>Recall</th>\n",
       "      <th>Precision</th>\n",
       "    </tr>\n",
       "  </thead>\n",
       "  <tbody>\n",
       "    <tr>\n",
       "      <th>0</th>\n",
       "      <td>logistic</td>\n",
       "      <td>0.367347</td>\n",
       "      <td>0.884615</td>\n",
       "      <td>0.875</td>\n",
       "      <td>0.958333</td>\n",
       "      <td>0.821429</td>\n",
       "    </tr>\n",
       "  </tbody>\n",
       "</table>\n",
       "</div>"
      ],
      "text/plain": [
       "      Model  Best Threshhold  F1 Score  Accuracy    Recall  Precision\n",
       "0  logistic         0.367347  0.884615     0.875  0.958333   0.821429"
      ]
     },
     "execution_count": 58,
     "metadata": {},
     "output_type": "execute_result"
    }
   ],
   "source": [
    "chart"
   ]
  },
  {
   "cell_type": "code",
   "execution_count": 59,
   "metadata": {},
   "outputs": [],
   "source": [
    "val_y_predict = (logistic_grid.predict_proba(X_val_under)[:, 1] >= chart['Best Threshhold'][0])\n",
    "fraud_confusion = confusion_matrix(y_val_under, val_y_predict)"
   ]
  },
  {
   "cell_type": "code",
   "execution_count": 60,
   "metadata": {},
   "outputs": [
    {
     "data": {
      "text/plain": [
       "Text(0.5, 1, 'Confusion Matrix- Validation')"
      ]
     },
     "execution_count": 60,
     "metadata": {},
     "output_type": "execute_result"
    },
    {
     "data": {
      "image/png": "[encoded data removed]",
      "text/plain": [
       "<Figure size 432x288 with 2 Axes>"
      ]
     },
     "metadata": {
      "needs_background": "light"
     },
     "output_type": "display_data"
    }
   ],
   "source": [
    "sns.heatmap(fraud_confusion, cmap=plt.cm.Blues, annot=True, square=True, fmt='d',\n",
    "           xticklabels=['False', 'True'],\n",
    "           yticklabels=['False', 'True'])\n",
    "plt.title('Confusion Matrix- Validation')\n"
   ]
  },
  {
   "cell_type": "code",
   "execution_count": null,
   "metadata": {},
   "outputs": [],
   "source": []
  },
  {
   "cell_type": "code",
   "execution_count": 61,
   "metadata": {},
   "outputs": [],
   "source": [
    "result_y_predict = (logistic_grid.predict_proba(X_test_std)[:, 1] >= chart['Best Threshhold'][0])\n",
    "fraud_confusion = confusion_matrix(y_test, result_y_predict)"
   ]
  },
  {
   "cell_type": "code",
   "execution_count": 62,
   "metadata": {},
   "outputs": [
    {
     "data": {
      "text/plain": [
       "Text(0.5, 1, 'Confusion Matrix- Test')"
      ]
     },
     "execution_count": 62,
     "metadata": {},
     "output_type": "execute_result"
    },
    {
     "data": {
      "image/png": "[encoded data removed]",
      "text/plain": [
       "<Figure size 432x288 with 2 Axes>"
      ]
     },
     "metadata": {
      "needs_background": "light"
     },
     "output_type": "display_data"
    }
   ],
   "source": [
    "sns.heatmap(fraud_confusion, cmap=plt.cm.Blues, annot=True, square=True, fmt='d',\n",
    "           xticklabels=['False', 'True'],\n",
    "           yticklabels=['False', 'True'])\n",
    "plt.title('Confusion Matrix- Test')"
   ]
  },
  {
   "cell_type": "code",
   "execution_count": 63,
   "metadata": {},
   "outputs": [],
   "source": [
    "result_chart = []"
   ]
  },
  {
   "cell_type": "code",
   "execution_count": 64,
   "metadata": {},
   "outputs": [],
   "source": [
    "f1 = f1_score(y_test,result_y_predict)\n",
    "acc = accuracy_score(y_test,result_y_predict)\n",
    "rec = recall_score(y_test,result_y_predict)\n",
    "pre = precision_score(y_test,result_y_predict)"
   ]
  },
  {
   "cell_type": "code",
   "execution_count": 65,
   "metadata": {},
   "outputs": [],
   "source": [
    "result_chart.append([\"logistic regression\", f1, acc, rec, pre])"
   ]
  },
  {
   "cell_type": "code",
   "execution_count": null,
   "metadata": {},
   "outputs": [],
   "source": []
  },
  {
   "cell_type": "code",
   "execution_count": null,
   "metadata": {},
   "outputs": [],
   "source": []
  },
  {
   "cell_type": "code",
   "execution_count": null,
   "metadata": {},
   "outputs": [],
   "source": []
  },
  {
   "cell_type": "code",
   "execution_count": null,
   "metadata": {},
   "outputs": [],
   "source": []
  },
  {
   "cell_type": "markdown",
   "metadata": {},
   "source": [
    "# Neural network"
   ]
  },
  {
   "cell_type": "code",
   "execution_count": 66,
   "metadata": {},
   "outputs": [],
   "source": [
    "model_NN = keras.Sequential([\n",
    "layers.Dense(input_dim = 10, units = 16, activation = 'relu'),\n",
    "layers.Dense(units = 24, activation = 'relu'),\n",
    "layers.Dropout(0.5),\n",
    "layers.Dense(units = 20, activation = 'relu'),\n",
    "layers.Dense(units = 24, activation = 'relu'),\n",
    "layers.Dense(units =1, activation = 'sigmoid'),])"
   ]
  },
  {
   "cell_type": "code",
   "execution_count": 67,
   "metadata": {},
   "outputs": [
    {
     "name": "stdout",
     "output_type": "stream",
     "text": [
      "Epoch 1/5\n",
      "10/10 [==============================] - 0s 4ms/step - loss: 0.7317 - accuracy: 0.5347\n",
      "Epoch 2/5\n",
      "10/10 [==============================] - 0s 1ms/step - loss: 0.7187 - accuracy: 0.4861\n",
      "Epoch 3/5\n",
      "10/10 [==============================] - 0s 1ms/step - loss: 0.6760 - accuracy: 0.5694\n",
      "Epoch 4/5\n",
      "10/10 [==============================] - 0s 7ms/step - loss: 0.6700 - accuracy: 0.6528\n",
      "Epoch 5/5\n",
      "10/10 [==============================] - 0s 1ms/step - loss: 0.6374 - accuracy: 0.6597\n"
     ]
    },
    {
     "data": {
      "text/plain": [
       "<tensorflow.python.keras.callbacks.History at 0x7fe1e0750e80>"
      ]
     },
     "execution_count": 67,
     "metadata": {},
     "output_type": "execute_result"
    }
   ],
   "source": [
    "model_NN.compile(optimizer = 'adam', loss = 'binary_crossentropy', metrics = ['accuracy'])\n",
    "model_NN.fit(X_train_under, y_train_under, batch_size = 15, epochs = 5)"
   ]
  },
  {
   "cell_type": "code",
   "execution_count": 68,
   "metadata": {},
   "outputs": [
    {
     "name": "stdout",
     "output_type": "stream",
     "text": [
      "70/70 [==============================] - 0s 1ms/step - loss: 0.6749 - accuracy: 0.6858\n"
     ]
    }
   ],
   "source": [
    "score = model_NN.evaluate(X_test_std,y_test)"
   ]
  },
  {
   "cell_type": "code",
   "execution_count": 69,
   "metadata": {},
   "outputs": [
    {
     "data": {
      "image/png": "[encoded data removed]",
      "text/plain": [
       "<Figure size 432x288 with 1 Axes>"
      ]
     },
     "metadata": {
      "needs_background": "light"
     },
     "output_type": "display_data"
    }
   ],
   "source": [
    "y_pred = list(model_NN.predict(X_val_under))\n",
    "fpr, tpr, threshold = metrics.roc_curve(y_val_under, y_pred)\n",
    "roc_auc = metrics.auc(fpr, tpr)\n",
    "plt.plot(fpr, tpr, label = ('Neural Network AUC = %0.4f' % roc_auc),linewidth=2.0)\n",
    "leg = plt.legend(loc = 'lower right',prop={'size': 15})\n",
    "plt.title('ROC - Neural Network')\n",
    "plt.ylabel('True Positive rate')\n",
    "plt.xlabel('False Positive rate');\n",
    "plt.show()"
   ]
  },
  {
   "cell_type": "code",
   "execution_count": 70,
   "metadata": {},
   "outputs": [],
   "source": [
    "def find_best_threshold_2(model, int_num_steps):\n",
    "    highest_f1 = 0\n",
    "    best_threshold = 0\n",
    "    for threshold in np.linspace (0, 1, int_num_steps):\n",
    "        y_predict = (model.predict(X_val_under) >= threshold) \n",
    "        f1 = f1_score(y_val_under,y_predict)\n",
    "        acc = accuracy_score(y_val_under,y_predict)\n",
    "        rec = recall_score(y_val_under,y_predict)\n",
    "        pre = precision_score(y_val_under,y_predict)\n",
    "        if f1 > highest_f1:\n",
    "            best_threshold, highest_f1, best_acc, best_rec, best_pre  = \\\n",
    "                threshold, f1, acc, rec, pre\n",
    "    return best_threshold, highest_f1, best_acc, best_rec, best_pre"
   ]
  },
  {
   "cell_type": "code",
   "execution_count": 71,
   "metadata": {},
   "outputs": [
    {
     "name": "stderr",
     "output_type": "stream",
     "text": [
      "/projeto/libs/lib/python3.6/site-packages/sklearn/metrics/_classification.py:1221: UndefinedMetricWarning: Precision is ill-defined and being set to 0.0 due to no predicted samples. Use `zero_division` parameter to control this behavior.\n",
      "  _warn_prf(average, modifier, msg_start, len(result))\n"
     ]
    }
   ],
   "source": [
    "models = [model_NN]\n",
    "model_names = [\"NN\"]\n",
    "chart_1 =[]\n",
    "for item,name in zip(models,model_names):\n",
    "    best_thresh, high_f1, high_acc, high_rec, high_pre = find_best_threshold_2(item,20)\n",
    "    chart_1.append([name, best_thresh, high_f1, high_acc, high_rec, high_pre])"
   ]
  },
  {
   "cell_type": "code",
   "execution_count": 72,
   "metadata": {},
   "outputs": [],
   "source": [
    "chart_1 = pd.DataFrame(chart_1, columns=['Model', 'Best Threshhold','F1 Score','Accuracy','Recall','Precision'])"
   ]
  },
  {
   "cell_type": "code",
   "execution_count": 73,
   "metadata": {},
   "outputs": [],
   "source": [
    "chart = chart.append(chart_1)"
   ]
  },
  {
   "cell_type": "code",
   "execution_count": null,
   "metadata": {},
   "outputs": [],
   "source": []
  },
  {
   "cell_type": "code",
   "execution_count": 74,
   "metadata": {},
   "outputs": [],
   "source": [
    "val_y_predict = (model_NN.predict(X_val_under) >= chart_1['Best Threshhold'][0])\n",
    "fraud_confusion = confusion_matrix(y_val_under, val_y_predict)"
   ]
  },
  {
   "cell_type": "code",
   "execution_count": 75,
   "metadata": {},
   "outputs": [
    {
     "data": {
      "text/plain": [
       "Text(0.5, 1, 'Confusion Matrix- Validation')"
      ]
     },
     "execution_count": 75,
     "metadata": {},
     "output_type": "execute_result"
    },
    {
     "data": {
      "image/png": "[encoded data removed]",
      "text/plain": [
       "<Figure size 432x288 with 2 Axes>"
      ]
     },
     "metadata": {
      "needs_background": "light"
     },
     "output_type": "display_data"
    }
   ],
   "source": [
    "sns.heatmap(fraud_confusion, cmap=plt.cm.Blues, annot=True, square=True, fmt='d',\n",
    "           xticklabels=['False', 'True'],\n",
    "           yticklabels=['False', 'True'])\n",
    "plt.title('Confusion Matrix- Validation')"
   ]
  },
  {
   "cell_type": "code",
   "execution_count": 76,
   "metadata": {},
   "outputs": [],
   "source": [
    "result_y_predict = (model_NN.predict(X_test_std) >= chart_1['Best Threshhold'][0])\n",
    "fraud_confusion = confusion_matrix(y_test, result_y_predict)"
   ]
  },
  {
   "cell_type": "code",
   "execution_count": 77,
   "metadata": {},
   "outputs": [
    {
     "data": {
      "text/plain": [
       "Text(0.5, 1, 'Confusion Matrix- Test')"
      ]
     },
     "execution_count": 77,
     "metadata": {},
     "output_type": "execute_result"
    },
    {
     "data": {
      "image/png": "[encoded data removed]",
      "text/plain": [
       "<Figure size 432x288 with 2 Axes>"
      ]
     },
     "metadata": {
      "needs_background": "light"
     },
     "output_type": "display_data"
    }
   ],
   "source": [
    "sns.heatmap(fraud_confusion, cmap=plt.cm.Blues, annot=True, square=True, fmt='d',\n",
    "           xticklabels=['False', 'True'],\n",
    "           yticklabels=['False', 'True'])\n",
    "plt.title('Confusion Matrix- Test')"
   ]
  },
  {
   "cell_type": "code",
   "execution_count": 78,
   "metadata": {},
   "outputs": [],
   "source": [
    "f1 = f1_score(y_test,result_y_predict)\n",
    "acc = accuracy_score(y_test,result_y_predict)\n",
    "rec = recall_score(y_test,result_y_predict)\n",
    "pre = precision_score(y_test,result_y_predict)"
   ]
  },
  {
   "cell_type": "code",
   "execution_count": 79,
   "metadata": {},
   "outputs": [],
   "source": [
    "result_chart.append([\"MM\", f1, acc, rec, pre])"
   ]
  },
  {
   "cell_type": "markdown",
   "metadata": {},
   "source": [
    "# RF"
   ]
  },
  {
   "cell_type": "code",
   "execution_count": 80,
   "metadata": {},
   "outputs": [],
   "source": [
    "%%capture\n",
    "param_grid = {\n",
    "    'max_depth': [5, 10, 15],\n",
    "    'max_features': ['sqrt'],\n",
    "    'min_samples_leaf': [10, 20],\n",
    "    'min_samples_split': [2, 5],\n",
    "    'n_estimators': [500, 700]\n",
    "}\n",
    "\n",
    "rf = RandomForestClassifier()\n",
    "rf_grid = GridSearchCV(rf, param_grid, cv=5, scoring='roc_auc', verbose=10, n_jobs=-1)\n",
    "rf_grid.fit(X_train_under,y_train_under)"
   ]
  },
  {
   "cell_type": "code",
   "execution_count": 81,
   "metadata": {},
   "outputs": [
    {
     "data": {
      "image/png": "[encoded data removed]",
      "text/plain": [
       "<Figure size 432x288 with 1 Axes>"
      ]
     },
     "metadata": {
      "needs_background": "light"
     },
     "output_type": "display_data"
    }
   ],
   "source": [
    "y_pred = list(rf_grid.predict_proba(X_val_under)[:,1])\n",
    "fpr, tpr, threshold = metrics.roc_curve(y_val_under, y_pred)\n",
    "roc_auc = metrics.auc(fpr, tpr)\n",
    "plt.plot(fpr, tpr, label = ('Random Florest AUC = %0.4f' % roc_auc),linewidth=2.0)\n",
    "leg = plt.legend(loc = 'lower right',prop={'size': 15})\n",
    "plt.title('ROC')\n",
    "plt.ylabel('True Positive rate')\n",
    "plt.xlabel('False Positive rate');\n",
    "plt.show()"
   ]
  },
  {
   "cell_type": "code",
   "execution_count": null,
   "metadata": {},
   "outputs": [],
   "source": []
  },
  {
   "cell_type": "code",
   "execution_count": 82,
   "metadata": {},
   "outputs": [],
   "source": [
    "%%capture\n",
    "models = [rf_grid]\n",
    "model_names = [\"RF\"]\n",
    "chart_2 =[]\n",
    "for item,name in zip(models,model_names):\n",
    "    best_thresh, high_f1, high_acc, high_rec, high_pre = find_best_threshold(item,20)\n",
    "    chart_2.append([name, best_thresh, high_f1, high_acc, high_rec, high_pre])"
   ]
  },
  {
   "cell_type": "code",
   "execution_count": 83,
   "metadata": {},
   "outputs": [],
   "source": [
    "chart_2 = pd.DataFrame(chart_2, columns=['Model', 'Best Threshhold','F1 Score','Accuracy','Recall','Precision'])"
   ]
  },
  {
   "cell_type": "code",
   "execution_count": 84,
   "metadata": {},
   "outputs": [],
   "source": [
    "chart = chart.append(chart_2)"
   ]
  },
  {
   "cell_type": "code",
   "execution_count": 85,
   "metadata": {},
   "outputs": [
    {
     "data": {
      "text/html": [
       "<div>\n",
       "<style scoped>\n",
       "    .dataframe tbody tr th:only-of-type {\n",
       "        vertical-align: middle;\n",
       "    }\n",
       "\n",
       "    .dataframe tbody tr th {\n",
       "        vertical-align: top;\n",
       "    }\n",
       "\n",
       "    .dataframe thead th {\n",
       "        text-align: right;\n",
       "    }\n",
       "</style>\n",
       "<table border=\"1\" class=\"dataframe\">\n",
       "  <thead>\n",
       "    <tr style=\"text-align: right;\">\n",
       "      <th></th>\n",
       "      <th>Model</th>\n",
       "      <th>Best Threshhold</th>\n",
       "      <th>F1 Score</th>\n",
       "      <th>Accuracy</th>\n",
       "      <th>Recall</th>\n",
       "      <th>Precision</th>\n",
       "    </tr>\n",
       "  </thead>\n",
       "  <tbody>\n",
       "    <tr>\n",
       "      <th>0</th>\n",
       "      <td>logistic</td>\n",
       "      <td>0.367347</td>\n",
       "      <td>0.884615</td>\n",
       "      <td>0.875000</td>\n",
       "      <td>0.958333</td>\n",
       "      <td>0.821429</td>\n",
       "    </tr>\n",
       "    <tr>\n",
       "      <th>0</th>\n",
       "      <td>NN</td>\n",
       "      <td>0.473684</td>\n",
       "      <td>0.741935</td>\n",
       "      <td>0.666667</td>\n",
       "      <td>0.958333</td>\n",
       "      <td>0.605263</td>\n",
       "    </tr>\n",
       "    <tr>\n",
       "      <th>0</th>\n",
       "      <td>RF</td>\n",
       "      <td>0.368421</td>\n",
       "      <td>0.872727</td>\n",
       "      <td>0.854167</td>\n",
       "      <td>1.000000</td>\n",
       "      <td>0.774194</td>\n",
       "    </tr>\n",
       "  </tbody>\n",
       "</table>\n",
       "</div>"
      ],
      "text/plain": [
       "      Model  Best Threshhold  F1 Score  Accuracy    Recall  Precision\n",
       "0  logistic         0.367347  0.884615  0.875000  0.958333   0.821429\n",
       "0        NN         0.473684  0.741935  0.666667  0.958333   0.605263\n",
       "0        RF         0.368421  0.872727  0.854167  1.000000   0.774194"
      ]
     },
     "execution_count": 85,
     "metadata": {},
     "output_type": "execute_result"
    }
   ],
   "source": [
    "chart"
   ]
  },
  {
   "cell_type": "code",
   "execution_count": 86,
   "metadata": {},
   "outputs": [],
   "source": [
    "val_y_predict = (rf_grid.predict(X_val_under) >= chart_2['Best Threshhold'][0])\n",
    "fraud_confusion = confusion_matrix(y_val_under, val_y_predict)"
   ]
  },
  {
   "cell_type": "code",
   "execution_count": 87,
   "metadata": {},
   "outputs": [
    {
     "data": {
      "text/plain": [
       "Text(0.5, 1, 'Confusion Matrix- Validation')"
      ]
     },
     "execution_count": 87,
     "metadata": {},
     "output_type": "execute_result"
    },
    {
     "data": {
      "image/png": "[encoded data removed]",
      "text/plain": [
       "<Figure size 432x288 with 2 Axes>"
      ]
     },
     "metadata": {
      "needs_background": "light"
     },
     "output_type": "display_data"
    }
   ],
   "source": [
    "sns.heatmap(fraud_confusion, cmap=plt.cm.Blues, annot=True, square=True, fmt='d',\n",
    "           xticklabels=['False', 'True'],\n",
    "           yticklabels=['False', 'True'])\n",
    "plt.title('Confusion Matrix- Validation')"
   ]
  },
  {
   "cell_type": "code",
   "execution_count": 88,
   "metadata": {},
   "outputs": [],
   "source": [
    "result_y_predict = (rf_grid.predict(X_test_std) >= chart_2['Best Threshhold'][0])\n",
    "fraud_confusion = confusion_matrix(y_test, result_y_predict)"
   ]
  },
  {
   "cell_type": "code",
   "execution_count": 89,
   "metadata": {},
   "outputs": [
    {
     "data": {
      "text/plain": [
       "Text(0.5, 1, 'Confusion Matrix- Test')"
      ]
     },
     "execution_count": 89,
     "metadata": {},
     "output_type": "execute_result"
    },
    {
     "data": {
      "image/png": "[encoded data removed]",
      "text/plain": [
       "<Figure size 432x288 with 2 Axes>"
      ]
     },
     "metadata": {
      "needs_background": "light"
     },
     "output_type": "display_data"
    }
   ],
   "source": [
    "sns.heatmap(fraud_confusion, cmap=plt.cm.Blues, annot=True, square=True, fmt='d',\n",
    "           xticklabels=['False', 'True'],\n",
    "           yticklabels=['False', 'True'])\n",
    "plt.title('Confusion Matrix- Test')"
   ]
  },
  {
   "cell_type": "code",
   "execution_count": 90,
   "metadata": {},
   "outputs": [],
   "source": [
    "f1 = f1_score(y_test,result_y_predict)\n",
    "acc = accuracy_score(y_test,result_y_predict)\n",
    "rec = recall_score(y_test,result_y_predict)\n",
    "pre = precision_score(y_test,result_y_predict)"
   ]
  },
  {
   "cell_type": "code",
   "execution_count": 91,
   "metadata": {},
   "outputs": [],
   "source": [
    "result_chart.append([\"RF\", f1, acc, rec, pre])"
   ]
  },
  {
   "cell_type": "code",
   "execution_count": null,
   "metadata": {},
   "outputs": [],
   "source": []
  },
  {
   "cell_type": "code",
   "execution_count": null,
   "metadata": {},
   "outputs": [],
   "source": []
  },
  {
   "cell_type": "code",
   "execution_count": null,
   "metadata": {},
   "outputs": [],
   "source": []
  },
  {
   "cell_type": "code",
   "execution_count": 92,
   "metadata": {},
   "outputs": [
    {
     "data": {
      "text/html": [
       "<div>\n",
       "<style scoped>\n",
       "    .dataframe tbody tr th:only-of-type {\n",
       "        vertical-align: middle;\n",
       "    }\n",
       "\n",
       "    .dataframe tbody tr th {\n",
       "        vertical-align: top;\n",
       "    }\n",
       "\n",
       "    .dataframe thead th {\n",
       "        text-align: right;\n",
       "    }\n",
       "</style>\n",
       "<table border=\"1\" class=\"dataframe\">\n",
       "  <thead>\n",
       "    <tr style=\"text-align: right;\">\n",
       "      <th></th>\n",
       "      <th>Model</th>\n",
       "      <th>Best Threshhold</th>\n",
       "      <th>F1 Score</th>\n",
       "      <th>Accuracy</th>\n",
       "      <th>Recall</th>\n",
       "      <th>Precision</th>\n",
       "    </tr>\n",
       "  </thead>\n",
       "  <tbody>\n",
       "    <tr>\n",
       "      <th>0</th>\n",
       "      <td>logistic</td>\n",
       "      <td>0.367347</td>\n",
       "      <td>0.884615</td>\n",
       "      <td>0.875000</td>\n",
       "      <td>0.958333</td>\n",
       "      <td>0.821429</td>\n",
       "    </tr>\n",
       "    <tr>\n",
       "      <th>0</th>\n",
       "      <td>NN</td>\n",
       "      <td>0.473684</td>\n",
       "      <td>0.741935</td>\n",
       "      <td>0.666667</td>\n",
       "      <td>0.958333</td>\n",
       "      <td>0.605263</td>\n",
       "    </tr>\n",
       "    <tr>\n",
       "      <th>0</th>\n",
       "      <td>RF</td>\n",
       "      <td>0.368421</td>\n",
       "      <td>0.872727</td>\n",
       "      <td>0.854167</td>\n",
       "      <td>1.000000</td>\n",
       "      <td>0.774194</td>\n",
       "    </tr>\n",
       "  </tbody>\n",
       "</table>\n",
       "</div>"
      ],
      "text/plain": [
       "      Model  Best Threshhold  F1 Score  Accuracy    Recall  Precision\n",
       "0  logistic         0.367347  0.884615  0.875000  0.958333   0.821429\n",
       "0        NN         0.473684  0.741935  0.666667  0.958333   0.605263\n",
       "0        RF         0.368421  0.872727  0.854167  1.000000   0.774194"
      ]
     },
     "execution_count": 92,
     "metadata": {},
     "output_type": "execute_result"
    }
   ],
   "source": [
    "chart"
   ]
  },
  {
   "cell_type": "code",
   "execution_count": 93,
   "metadata": {},
   "outputs": [],
   "source": [
    "result_chart = pd.DataFrame(result_chart, columns=['Model', 'F1 Score','Accuracy','Recall','Precision'])"
   ]
  },
  {
   "cell_type": "code",
   "execution_count": 94,
   "metadata": {},
   "outputs": [
    {
     "data": {
      "text/html": [
       "<div>\n",
       "<style scoped>\n",
       "    .dataframe tbody tr th:only-of-type {\n",
       "        vertical-align: middle;\n",
       "    }\n",
       "\n",
       "    .dataframe tbody tr th {\n",
       "        vertical-align: top;\n",
       "    }\n",
       "\n",
       "    .dataframe thead th {\n",
       "        text-align: right;\n",
       "    }\n",
       "</style>\n",
       "<table border=\"1\" class=\"dataframe\">\n",
       "  <thead>\n",
       "    <tr style=\"text-align: right;\">\n",
       "      <th></th>\n",
       "      <th>Model</th>\n",
       "      <th>F1 Score</th>\n",
       "      <th>Accuracy</th>\n",
       "      <th>Recall</th>\n",
       "      <th>Precision</th>\n",
       "    </tr>\n",
       "  </thead>\n",
       "  <tbody>\n",
       "    <tr>\n",
       "      <th>0</th>\n",
       "      <td>logistic regression</td>\n",
       "      <td>0.050919</td>\n",
       "      <td>0.699642</td>\n",
       "      <td>0.750000</td>\n",
       "      <td>0.026354</td>\n",
       "    </tr>\n",
       "    <tr>\n",
       "      <th>1</th>\n",
       "      <td>MM</td>\n",
       "      <td>0.036421</td>\n",
       "      <td>0.455237</td>\n",
       "      <td>0.958333</td>\n",
       "      <td>0.018563</td>\n",
       "    </tr>\n",
       "    <tr>\n",
       "      <th>2</th>\n",
       "      <td>RF</td>\n",
       "      <td>0.049934</td>\n",
       "      <td>0.676365</td>\n",
       "      <td>0.791667</td>\n",
       "      <td>0.025780</td>\n",
       "    </tr>\n",
       "  </tbody>\n",
       "</table>\n",
       "</div>"
      ],
      "text/plain": [
       "                 Model  F1 Score  Accuracy    Recall  Precision\n",
       "0  logistic regression  0.050919  0.699642  0.750000   0.026354\n",
       "1                   MM  0.036421  0.455237  0.958333   0.018563\n",
       "2                   RF  0.049934  0.676365  0.791667   0.025780"
      ]
     },
     "execution_count": 94,
     "metadata": {},
     "output_type": "execute_result"
    }
   ],
   "source": [
    "result_chart"
   ]
  },
  {
   "cell_type": "code",
   "execution_count": null,
   "metadata": {},
   "outputs": [],
   "source": []
  },
  {
   "cell_type": "code",
   "execution_count": null,
   "metadata": {},
   "outputs": [],
   "source": []
  }
 ],
 "metadata": {
  "kernelspec": {
   "display_name": "Python 3",
   "language": "python",
   "name": "python3"
  },
  "language_info": {
   "codemirror_mode": {
    "name": "ipython",
    "version": 3
   },
   "file_extension": ".py",
   "mimetype": "text/x-python",
   "name": "python",
   "nbconvert_exporter": "python",
   "pygments_lexer": "ipython3",
   "version": "3.6.8"
  }
 },
 "nbformat": 4,
 "nbformat_minor": 4
}
